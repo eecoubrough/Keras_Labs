{
  "nbformat": 4,
  "nbformat_minor": 0,
  "metadata": {
    "kernelspec": {
      "display_name": "Python 3",
      "language": "python",
      "name": "python3"
    },
    "language_info": {
      "codemirror_mode": {
        "name": "ipython",
        "version": 3
      },
      "file_extension": ".py",
      "mimetype": "text/x-python",
      "name": "python",
      "nbconvert_exporter": "python",
      "pygments_lexer": "ipython3",
      "version": "3.5.2"
    },
    "colab": {
      "provenance": [],
      "include_colab_link": true
    }
  },
  "cells": [
    {
      "cell_type": "markdown",
      "metadata": {
        "id": "view-in-github",
        "colab_type": "text"
      },
      "source": [
        "<a href=\"https://colab.research.google.com/github/eecoubrough/Keras_Labs/blob/main/Copy_of_3_6_classifying_newswires.ipynb\" target=\"_parent\"><img src=\"https://colab.research.google.com/assets/colab-badge.svg\" alt=\"Open In Colab\"/></a>"
      ]
    },
    {
      "cell_type": "code",
      "metadata": {
        "id": "5JTTjIMqpBq1",
        "colab": {
          "base_uri": "https://localhost:8080/",
          "height": 35
        },
        "outputId": "5f3e03c8-2898-47d1-c74c-77e35db906bf"
      },
      "source": [
        "import keras\n",
        "keras.__version__"
      ],
      "execution_count": null,
      "outputs": [
        {
          "output_type": "execute_result",
          "data": {
            "text/plain": [
              "'2.15.0'"
            ],
            "application/vnd.google.colaboratory.intrinsic+json": {
              "type": "string"
            }
          },
          "metadata": {},
          "execution_count": 1
        }
      ]
    },
    {
      "cell_type": "markdown",
      "metadata": {
        "id": "bmCgjoSnpBq7"
      },
      "source": [
        "# Classifying newswires: a multi-class classification example\n",
        "\n",
        "This notebook contains the code samples found in Chapter 3, Section 5 of [Deep Learning with Python](https://www.manning.com/books/deep-learning-with-python?a_aid=keras&a_bid=76564dff). Note that the original text features far more content, in particular further explanations and figures: in this notebook, you will only find source code and related comments.\n",
        "\n",
        "----\n",
        "\n",
        "In the previous section we saw how to classify vector inputs into two mutually exclusive classes using a densely-connected neural network.\n",
        "But what happens when you have more than two classes?\n",
        "\n",
        "In this section, we will build a network to classify Reuters newswires into 46 different mutually-exclusive topics. Since we have many\n",
        "classes, this problem is an instance of \"multi-class classification\", and since each data point should be classified into only one\n",
        "category, the problem is more specifically an instance of \"single-label, multi-class classification\". If each data point could have\n",
        "belonged to multiple categories (in our case, topics) then we would be facing a \"multi-label, multi-class classification\" problem."
      ]
    },
    {
      "cell_type": "markdown",
      "metadata": {
        "id": "l9exjJNbpBq7"
      },
      "source": [
        "## The Reuters dataset\n",
        "\n",
        "\n",
        "We will be working with the _Reuters dataset_, a set of short newswires and their topics, published by Reuters in 1986. It's a very simple,\n",
        "widely used toy dataset for text classification. There are 46 different topics; some topics are more represented than others, but each\n",
        "topic has at least 10 examples in the training set.\n",
        "\n",
        "Like IMDB and MNIST, the Reuters dataset comes packaged as part of Keras. Let's take a look right away:"
      ]
    },
    {
      "cell_type": "code",
      "metadata": {
        "collapsed": true,
        "id": "x_9ntD8JpBq8",
        "colab": {
          "base_uri": "https://localhost:8080/"
        },
        "outputId": "2c326301-a30e-4663-b087-3cc906ef423b"
      },
      "source": [
        "(train_data, train_labels), (test_data, test_labels) = keras.datasets.reuters.load_data(num_words=10000)"
      ],
      "execution_count": null,
      "outputs": [
        {
          "output_type": "stream",
          "name": "stdout",
          "text": [
            "Downloading data from https://storage.googleapis.com/tensorflow/tf-keras-datasets/reuters.npz\n",
            "2110848/2110848 [==============================] - 0s 0us/step\n"
          ]
        }
      ]
    },
    {
      "cell_type": "markdown",
      "metadata": {
        "id": "9mn6mhgTpBq8"
      },
      "source": [
        "\n",
        "Like with the IMDB dataset, the argument `num_words=10000` restricts the data to the 10,000 most frequently occurring words found in the\n",
        "data.\n",
        "\n",
        "We have 8,982 training examples and 2,246 test examples:"
      ]
    },
    {
      "cell_type": "code",
      "metadata": {
        "id": "KjrUVb_ApBq8",
        "colab": {
          "base_uri": "https://localhost:8080/"
        },
        "outputId": "8ab04453-eb7e-4d2c-a307-c2da55259df1"
      },
      "source": [
        "len(train_data)"
      ],
      "execution_count": null,
      "outputs": [
        {
          "output_type": "execute_result",
          "data": {
            "text/plain": [
              "8982"
            ]
          },
          "metadata": {},
          "execution_count": 3
        }
      ]
    },
    {
      "cell_type": "code",
      "metadata": {
        "id": "ztXuTEOCpBq8",
        "colab": {
          "base_uri": "https://localhost:8080/"
        },
        "outputId": "94e0f084-d6f2-47c7-ec48-0532852bd0d9"
      },
      "source": [
        "len(test_data)"
      ],
      "execution_count": null,
      "outputs": [
        {
          "output_type": "execute_result",
          "data": {
            "text/plain": [
              "2246"
            ]
          },
          "metadata": {},
          "execution_count": 4
        }
      ]
    },
    {
      "cell_type": "markdown",
      "metadata": {
        "id": "6LYxkUnCpBq9"
      },
      "source": [
        "As with the IMDB reviews, each example is a list of integers (word indices):"
      ]
    },
    {
      "cell_type": "code",
      "metadata": {
        "id": "3aAQCxE1pBq9",
        "colab": {
          "base_uri": "https://localhost:8080/"
        },
        "outputId": "b60bd83f-e8bb-49b3-c0c7-231fe732ec0e"
      },
      "source": [
        "train_data[10]"
      ],
      "execution_count": null,
      "outputs": [
        {
          "output_type": "execute_result",
          "data": {
            "text/plain": [
              "[1,\n",
              " 245,\n",
              " 273,\n",
              " 207,\n",
              " 156,\n",
              " 53,\n",
              " 74,\n",
              " 160,\n",
              " 26,\n",
              " 14,\n",
              " 46,\n",
              " 296,\n",
              " 26,\n",
              " 39,\n",
              " 74,\n",
              " 2979,\n",
              " 3554,\n",
              " 14,\n",
              " 46,\n",
              " 4689,\n",
              " 4329,\n",
              " 86,\n",
              " 61,\n",
              " 3499,\n",
              " 4795,\n",
              " 14,\n",
              " 61,\n",
              " 451,\n",
              " 4329,\n",
              " 17,\n",
              " 12]"
            ]
          },
          "metadata": {},
          "execution_count": 5
        }
      ]
    },
    {
      "cell_type": "markdown",
      "metadata": {
        "id": "YBsnBY7WpBq9"
      },
      "source": [
        "Here's how you can decode it back to words, in case you are curious:"
      ]
    },
    {
      "cell_type": "code",
      "metadata": {
        "collapsed": true,
        "id": "ZtrbH5OTpBq-",
        "colab": {
          "base_uri": "https://localhost:8080/"
        },
        "outputId": "735f0b4f-bb43-4c80-ba8d-f1fa497164a8"
      },
      "source": [
        "word_index = keras.datasets.reuters.get_word_index()\n",
        "reverse_word_index = dict([(value, key) for (key, value) in word_index.items()])\n",
        "# Note that our indices were offset by 3\n",
        "# because 0, 1 and 2 are reserved indices for \"padding\", \"start of sequence\", and \"unknown\".\n",
        "decoded_newswire = ' '.join([reverse_word_index.get(i - 3, '?') for i in train_data[0]])"
      ],
      "execution_count": null,
      "outputs": [
        {
          "output_type": "stream",
          "name": "stdout",
          "text": [
            "Downloading data from https://storage.googleapis.com/tensorflow/tf-keras-datasets/reuters_word_index.json\n",
            "550378/550378 [==============================] - 0s 0us/step\n"
          ]
        }
      ]
    },
    {
      "cell_type": "code",
      "metadata": {
        "id": "1BplwBSrpBq-",
        "colab": {
          "base_uri": "https://localhost:8080/",
          "height": 70
        },
        "outputId": "81b72a06-a619-4001-89f3-b76f2360f8f4"
      },
      "source": [
        "decoded_newswire"
      ],
      "execution_count": null,
      "outputs": [
        {
          "output_type": "execute_result",
          "data": {
            "text/plain": [
              "'? ? ? said as a result of its december acquisition of space co it expects earnings per share in 1987 of 1 15 to 1 30 dlrs per share up from 70 cts in 1986 the company said pretax net should rise to nine to 10 mln dlrs from six mln dlrs in 1986 and rental operation revenues to 19 to 22 mln dlrs from 12 5 mln dlrs it said cash flow per share this year should be 2 50 to three dlrs reuter 3'"
            ],
            "application/vnd.google.colaboratory.intrinsic+json": {
              "type": "string"
            }
          },
          "metadata": {},
          "execution_count": 7
        }
      ]
    },
    {
      "cell_type": "markdown",
      "metadata": {
        "id": "dr-Q5tFPpBq-"
      },
      "source": [
        "The label associated with an example is an integer between 0 and 45: a topic index."
      ]
    },
    {
      "cell_type": "code",
      "metadata": {
        "id": "y1V7bdXFpBq-",
        "colab": {
          "base_uri": "https://localhost:8080/"
        },
        "outputId": "74f4d6e3-9d7b-4780-f492-865743b41f01"
      },
      "source": [
        "train_labels[10]"
      ],
      "execution_count": null,
      "outputs": [
        {
          "output_type": "execute_result",
          "data": {
            "text/plain": [
              "3"
            ]
          },
          "metadata": {},
          "execution_count": 8
        }
      ]
    },
    {
      "cell_type": "markdown",
      "metadata": {
        "id": "1ZgktMgjpBq_"
      },
      "source": [
        "## Preparing the data\n",
        "\n",
        "We can vectorize the data with the exact same code as in our previous example:"
      ]
    },
    {
      "cell_type": "code",
      "metadata": {
        "collapsed": true,
        "id": "IhPmy_llpBq_"
      },
      "source": [
        "import numpy as np\n",
        "\n",
        "def vectorize_sequences(sequences, dimension=10000):\n",
        "    results = np.zeros((len(sequences), dimension))\n",
        "    for i, sequence in enumerate(sequences):\n",
        "        results[i, sequence] = 1.\n",
        "    return results\n",
        "\n",
        "# Our vectorized training data\n",
        "x_train = vectorize_sequences(train_data)\n",
        "# Our vectorized test data\n",
        "x_test = vectorize_sequences(test_data)"
      ],
      "execution_count": null,
      "outputs": []
    },
    {
      "cell_type": "markdown",
      "metadata": {
        "id": "wI57luvwpBq_"
      },
      "source": [
        "\n",
        "To vectorize the labels, there are two possibilities: we could just cast the label list as an integer tensor, or we could use a \"one-hot\"\n",
        "encoding. One-hot encoding is a widely used format for categorical data, also called \"categorical encoding\".\n",
        "For a more detailed explanation of one-hot encoding, you can refer to Chapter 6, Section 1.\n",
        "In our case, one-hot encoding of our labels consists in embedding each label as an all-zero vector with a 1 in the place of the label index, e.g.:"
      ]
    },
    {
      "cell_type": "code",
      "metadata": {
        "collapsed": true,
        "id": "Y2ib4glTpBq_"
      },
      "source": [
        "def to_one_hot(labels, dimension=46):\n",
        "    results = np.zeros((len(labels), dimension))\n",
        "    for i, label in enumerate(labels):\n",
        "        results[i, label] = 1.\n",
        "    return results\n",
        "\n",
        "# Our vectorized training labels\n",
        "one_hot_train_labels = to_one_hot(train_labels)\n",
        "# Our vectorized test labels\n",
        "one_hot_test_labels = to_one_hot(test_labels)"
      ],
      "execution_count": null,
      "outputs": []
    },
    {
      "cell_type": "markdown",
      "metadata": {
        "id": "-px1HgQvpBrA"
      },
      "source": [
        "Note that there is a built-in way to do this in Keras, which you have already seen in action in our MNIST example:"
      ]
    },
    {
      "cell_type": "code",
      "metadata": {
        "collapsed": true,
        "id": "sPMzGspNpBrA"
      },
      "source": [
        "one_hot_train_labels = keras.utils.to_categorical(train_labels)\n",
        "one_hot_test_labels = keras.utils.to_categorical(test_labels)"
      ],
      "execution_count": null,
      "outputs": []
    },
    {
      "cell_type": "markdown",
      "metadata": {
        "id": "_8wYFZj0pBrA"
      },
      "source": [
        "## Building our network\n",
        "\n",
        "\n",
        "This topic classification problem looks very similar to our previous movie review classification problem: in both cases, we are trying to\n",
        "classify short snippets of text. There is however a new constraint here: the number of output classes has gone from 2 to 46, i.e. the\n",
        "dimensionality of the output space is much larger.\n",
        "\n",
        "In a stack of `Dense` layers like what we were using, each layer can only access information present in the output of the previous layer.\n",
        "If one layer drops some information relevant to the classification problem, this information can never be recovered by later layers: each\n",
        "layer can potentially become an \"information bottleneck\". In our previous example, we were using 16-dimensional intermediate layers, but a\n",
        "16-dimensional space may be too limited to learn to separate 46 different classes: such small layers may act as information bottlenecks,\n",
        "permanently dropping relevant information.\n",
        "\n",
        "For this reason we will use larger layers. Let's go with 64 units:"
      ]
    },
    {
      "cell_type": "code",
      "metadata": {
        "collapsed": true,
        "id": "I_NvE0eTpBrA"
      },
      "source": [
        "model = keras.Sequential()\n",
        "model.add(keras.layers.Dense(64, activation='relu', input_shape=(10000,)))\n",
        "model.add(keras.layers.Dense(64, activation='relu'))\n",
        "model.add(keras.layers.Dense(46, activation='softmax'))"
      ],
      "execution_count": null,
      "outputs": []
    },
    {
      "cell_type": "markdown",
      "metadata": {
        "id": "2V3PIAghpBrA"
      },
      "source": [
        "\n",
        "There are two other things you should note about this architecture:\n",
        "\n",
        "* We are ending the network with a `Dense` layer of size 46. This means that for each input sample, our network will output a\n",
        "46-dimensional vector. Each entry in this vector (each dimension) will encode a different output class.\n",
        "* The last layer uses a `softmax` activation. You have already seen this pattern in the MNIST example. It means that the network will\n",
        "output a _probability distribution_ over the 46 different output classes, i.e. for every input sample, the network will produce a\n",
        "46-dimensional output vector where `output[i]` is the probability that the sample belongs to class `i`. The 46 scores will sum to 1.\n",
        "\n",
        "The best loss function to use in this case is `categorical_crossentropy`. It measures the distance between two probability distributions:\n",
        "in our case, between the probability distribution output by our network, and the true distribution of the labels. By minimizing the\n",
        "distance between these two distributions, we train our network to output something as close as possible to the true labels."
      ]
    },
    {
      "cell_type": "code",
      "metadata": {
        "collapsed": true,
        "id": "xbzBiisQpBrB"
      },
      "source": [
        "model.compile(optimizer='rmsprop',\n",
        "              loss='categorical_crossentropy',\n",
        "              metrics=['accuracy'])"
      ],
      "execution_count": null,
      "outputs": []
    },
    {
      "cell_type": "markdown",
      "metadata": {
        "id": "HrElQZkQpBrB"
      },
      "source": [
        "## Validating our approach\n",
        "\n",
        "Let's set apart 1,000 samples in our training data to use as a validation set:"
      ]
    },
    {
      "cell_type": "code",
      "metadata": {
        "collapsed": true,
        "id": "RPHcVcsDpBrB"
      },
      "source": [
        "x_val = x_train[:1000]\n",
        "partial_x_train = x_train[1000:]\n",
        "\n",
        "y_val = one_hot_train_labels[:1000]\n",
        "partial_y_train = one_hot_train_labels[1000:]"
      ],
      "execution_count": null,
      "outputs": []
    },
    {
      "cell_type": "markdown",
      "metadata": {
        "id": "a6QF68JwpBrC"
      },
      "source": [
        "Now let's train our network for 20 epochs:"
      ]
    },
    {
      "cell_type": "code",
      "metadata": {
        "id": "tnhCssOTpBrC",
        "colab": {
          "base_uri": "https://localhost:8080/"
        },
        "outputId": "1a43690a-7896-4120-9b2c-25fd9ef209a3"
      },
      "source": [
        "history = model.fit(partial_x_train,\n",
        "                    partial_y_train,\n",
        "                    epochs=20,\n",
        "                    batch_size=512,\n",
        "                    validation_data=(x_val, y_val))"
      ],
      "execution_count": null,
      "outputs": [
        {
          "output_type": "stream",
          "name": "stdout",
          "text": [
            "Epoch 1/20\n",
            "16/16 [==============================] - 3s 114ms/step - loss: 2.7165 - accuracy: 0.5008 - val_loss: 1.8034 - val_accuracy: 0.6450\n",
            "Epoch 2/20\n",
            "16/16 [==============================] - 1s 87ms/step - loss: 1.5059 - accuracy: 0.6893 - val_loss: 1.3313 - val_accuracy: 0.6960\n",
            "Epoch 3/20\n",
            "16/16 [==============================] - 3s 164ms/step - loss: 1.1423 - accuracy: 0.7551 - val_loss: 1.1515 - val_accuracy: 0.7450\n",
            "Epoch 4/20\n",
            "16/16 [==============================] - 2s 129ms/step - loss: 0.9322 - accuracy: 0.7987 - val_loss: 1.0539 - val_accuracy: 0.7570\n",
            "Epoch 5/20\n",
            "16/16 [==============================] - 1s 89ms/step - loss: 0.7756 - accuracy: 0.8319 - val_loss: 0.9631 - val_accuracy: 0.7910\n",
            "Epoch 6/20\n",
            "16/16 [==============================] - 1s 84ms/step - loss: 0.6439 - accuracy: 0.8599 - val_loss: 0.9090 - val_accuracy: 0.8030\n",
            "Epoch 7/20\n",
            "16/16 [==============================] - 1s 77ms/step - loss: 0.5376 - accuracy: 0.8869 - val_loss: 0.8791 - val_accuracy: 0.8050\n",
            "Epoch 8/20\n",
            "16/16 [==============================] - 1s 85ms/step - loss: 0.4529 - accuracy: 0.9029 - val_loss: 0.8681 - val_accuracy: 0.8120\n",
            "Epoch 9/20\n",
            "16/16 [==============================] - 1s 91ms/step - loss: 0.3838 - accuracy: 0.9192 - val_loss: 0.8482 - val_accuracy: 0.8200\n",
            "Epoch 10/20\n",
            "16/16 [==============================] - 1s 89ms/step - loss: 0.3270 - accuracy: 0.9285 - val_loss: 0.8343 - val_accuracy: 0.8260\n",
            "Epoch 11/20\n",
            "16/16 [==============================] - 2s 102ms/step - loss: 0.2816 - accuracy: 0.9361 - val_loss: 0.8344 - val_accuracy: 0.8200\n",
            "Epoch 12/20\n",
            "16/16 [==============================] - 2s 119ms/step - loss: 0.2492 - accuracy: 0.9429 - val_loss: 0.8812 - val_accuracy: 0.8080\n",
            "Epoch 13/20\n",
            "16/16 [==============================] - 1s 91ms/step - loss: 0.2198 - accuracy: 0.9449 - val_loss: 0.8879 - val_accuracy: 0.8100\n",
            "Epoch 14/20\n",
            "16/16 [==============================] - 1s 66ms/step - loss: 0.2008 - accuracy: 0.9518 - val_loss: 0.8752 - val_accuracy: 0.8180\n",
            "Epoch 15/20\n",
            "16/16 [==============================] - 1s 47ms/step - loss: 0.1812 - accuracy: 0.9523 - val_loss: 0.8866 - val_accuracy: 0.8080\n",
            "Epoch 16/20\n",
            "16/16 [==============================] - 1s 45ms/step - loss: 0.1697 - accuracy: 0.9525 - val_loss: 0.8661 - val_accuracy: 0.8260\n",
            "Epoch 17/20\n",
            "16/16 [==============================] - 1s 45ms/step - loss: 0.1527 - accuracy: 0.9554 - val_loss: 0.9148 - val_accuracy: 0.8070\n",
            "Epoch 18/20\n",
            "16/16 [==============================] - 1s 45ms/step - loss: 0.1467 - accuracy: 0.9559 - val_loss: 0.9083 - val_accuracy: 0.8090\n",
            "Epoch 19/20\n",
            "16/16 [==============================] - 1s 44ms/step - loss: 0.1416 - accuracy: 0.9557 - val_loss: 0.9379 - val_accuracy: 0.8160\n",
            "Epoch 20/20\n",
            "16/16 [==============================] - 1s 43ms/step - loss: 0.1306 - accuracy: 0.9573 - val_loss: 0.9196 - val_accuracy: 0.8150\n"
          ]
        }
      ]
    },
    {
      "cell_type": "markdown",
      "metadata": {
        "id": "rbNZFydwpBrC"
      },
      "source": [
        "Let's display its loss and accuracy curves:"
      ]
    },
    {
      "cell_type": "code",
      "metadata": {
        "id": "RSAfvRPrpBrC",
        "colab": {
          "base_uri": "https://localhost:8080/",
          "height": 472
        },
        "outputId": "f7391b22-027b-4289-9d3e-7269572715f2"
      },
      "source": [
        "import matplotlib.pyplot as plt\n",
        "\n",
        "loss = history.history['loss']\n",
        "val_loss = history.history['val_loss']\n",
        "\n",
        "epochs = range(1, len(loss) + 1)\n",
        "\n",
        "plt.plot(epochs, loss, 'bo', label='Training loss')\n",
        "plt.plot(epochs, val_loss, 'b', label='Validation loss')\n",
        "plt.title('Training and validation loss')\n",
        "plt.xlabel('Epochs')\n",
        "plt.ylabel('Loss')\n",
        "plt.legend()\n",
        "\n",
        "plt.show()"
      ],
      "execution_count": null,
      "outputs": [
        {
          "output_type": "display_data",
          "data": {
            "text/plain": [
              "<Figure size 640x480 with 1 Axes>"
            ],
            "image/png": "[encoded data removed]"
          },
          "metadata": {}
        }
      ]
    },
    {
      "cell_type": "code",
      "metadata": {
        "id": "_LFtjhJTpBrD",
        "colab": {
          "base_uri": "https://localhost:8080/",
          "height": 472
        },
        "outputId": "464c537e-9aa0-4509-a8bb-25342b89fc20"
      },
      "source": [
        "plt.clf()   # clear figure\n",
        "\n",
        "acc = history.history['accuracy']\n",
        "val_acc = history.history['val_accuracy']\n",
        "\n",
        "plt.plot(epochs, acc, 'bo', label='Training acc')\n",
        "plt.plot(epochs, val_acc, 'b', label='Validation acc')\n",
        "plt.title('Training and validation accuracy')\n",
        "plt.xlabel('Epochs')\n",
        "plt.ylabel('Loss')\n",
        "plt.legend()\n",
        "\n",
        "plt.show()"
      ],
      "execution_count": null,
      "outputs": [
        {
          "output_type": "display_data",
          "data": {
            "text/plain": [
              "<Figure size 640x480 with 1 Axes>"
            ],
            "image/png": "[encoded data removed]"
          },
          "metadata": {}
        }
      ]
    },
    {
      "cell_type": "markdown",
      "metadata": {
        "id": "t6UHWUdApBrD"
      },
      "source": [
        "It seems that the network starts overfitting after 8 epochs. Let's train a new network from scratch for 8 epochs, then let's evaluate it on\n",
        "the test set:"
      ]
    },
    {
      "cell_type": "code",
      "metadata": {
        "id": "UzSUxlt-pBrD",
        "colab": {
          "base_uri": "https://localhost:8080/"
        },
        "outputId": "e94025b7-415b-4004-ebcf-1bf214a672ee"
      },
      "source": [
        "model = keras.Sequential()\n",
        "model.add(keras.layers.Dense(64, activation='relu', input_shape=(10000,)))\n",
        "model.add(keras.layers.Dense(64, activation='relu'))\n",
        "model.add(keras.layers.Dense(46, activation='softmax'))\n",
        "\n",
        "model.compile(optimizer='rmsprop',\n",
        "              loss='categorical_crossentropy',\n",
        "              metrics=['accuracy'])\n",
        "model.fit(partial_x_train,\n",
        "          partial_y_train,\n",
        "          epochs=8,\n",
        "          batch_size=512,\n",
        "          validation_data=(x_val, y_val))\n",
        "results = model.evaluate(x_test, one_hot_test_labels)"
      ],
      "execution_count": null,
      "outputs": [
        {
          "output_type": "stream",
          "name": "stdout",
          "text": [
            "Epoch 1/8\n",
            "16/16 [==============================] - 1s 62ms/step - loss: 2.8084 - accuracy: 0.5023 - val_loss: 1.8836 - val_accuracy: 0.6410\n",
            "Epoch 2/8\n",
            "16/16 [==============================] - 1s 61ms/step - loss: 1.5783 - accuracy: 0.6779 - val_loss: 1.3964 - val_accuracy: 0.6950\n",
            "Epoch 3/8\n",
            "16/16 [==============================] - 1s 81ms/step - loss: 1.2035 - accuracy: 0.7422 - val_loss: 1.2148 - val_accuracy: 0.7370\n",
            "Epoch 4/8\n",
            "16/16 [==============================] - 1s 67ms/step - loss: 0.9886 - accuracy: 0.7863 - val_loss: 1.1060 - val_accuracy: 0.7620\n",
            "Epoch 5/8\n",
            "16/16 [==============================] - 1s 44ms/step - loss: 0.8299 - accuracy: 0.8168 - val_loss: 1.0354 - val_accuracy: 0.7780\n",
            "Epoch 6/8\n",
            "16/16 [==============================] - 1s 45ms/step - loss: 0.6973 - accuracy: 0.8450 - val_loss: 0.9793 - val_accuracy: 0.7870\n",
            "Epoch 7/8\n",
            "16/16 [==============================] - 1s 45ms/step - loss: 0.5812 - accuracy: 0.8745 - val_loss: 0.9350 - val_accuracy: 0.7990\n",
            "Epoch 8/8\n",
            "16/16 [==============================] - 1s 45ms/step - loss: 0.4885 - accuracy: 0.8945 - val_loss: 0.9102 - val_accuracy: 0.8040\n",
            "71/71 [==============================] - 0s 3ms/step - loss: 0.9653 - accuracy: 0.7809\n"
          ]
        }
      ]
    },
    {
      "cell_type": "code",
      "metadata": {
        "id": "vuAJMXPypBrD",
        "colab": {
          "base_uri": "https://localhost:8080/"
        },
        "outputId": "090cee13-19ea-45f0-e378-42182ed14e53"
      },
      "source": [
        "results"
      ],
      "execution_count": null,
      "outputs": [
        {
          "output_type": "execute_result",
          "data": {
            "text/plain": [
              "[0.9653246402740479, 0.7809438705444336]"
            ]
          },
          "metadata": {},
          "execution_count": 19
        }
      ]
    },
    {
      "cell_type": "markdown",
      "metadata": {
        "id": "HrNQAHSDpBrE"
      },
      "source": [
        "\n",
        "Our approach reaches an accuracy of ~78%. With a balanced binary classification problem, the accuracy reached by a purely random classifier\n",
        "would be 50%, but in our case it is closer to 19%, so our results seem pretty good, at least when compared to a random baseline:"
      ]
    },
    {
      "cell_type": "code",
      "metadata": {
        "id": "_e95NuvRpBrE",
        "colab": {
          "base_uri": "https://localhost:8080/"
        },
        "outputId": "cba9bce2-42da-40ac-8e08-b78cf3d400b3"
      },
      "source": [
        "import copy\n",
        "\n",
        "test_labels_copy = copy.copy(test_labels)\n",
        "np.random.shuffle(test_labels_copy)\n",
        "float(np.sum(np.array(test_labels) == np.array(test_labels_copy))) / len(test_labels)"
      ],
      "execution_count": null,
      "outputs": [
        {
          "output_type": "execute_result",
          "data": {
            "text/plain": [
              "0.19145146927871773"
            ]
          },
          "metadata": {},
          "execution_count": 20
        }
      ]
    },
    {
      "cell_type": "markdown",
      "metadata": {
        "id": "OBZmJA5ppBrE"
      },
      "source": [
        "## Generating predictions on new data\n",
        "\n",
        "We can verify that the `predict` method of our model instance returns a probability distribution over all 46 topics. Let's generate topic\n",
        "predictions for all of the test data:"
      ]
    },
    {
      "cell_type": "code",
      "metadata": {
        "collapsed": true,
        "id": "rvxBB0pKpBrE",
        "colab": {
          "base_uri": "https://localhost:8080/"
        },
        "outputId": "fe285fed-2ef8-4834-ab4c-74fa8afc34ba"
      },
      "source": [
        "predictions = model.predict(x_test)"
      ],
      "execution_count": null,
      "outputs": [
        {
          "output_type": "stream",
          "name": "stdout",
          "text": [
            "71/71 [==============================] - 1s 3ms/step\n"
          ]
        }
      ]
    },
    {
      "cell_type": "markdown",
      "metadata": {
        "id": "HFXKwMS0pBrE"
      },
      "source": [
        "Each entry in `predictions` is a vector of length 46:"
      ]
    },
    {
      "cell_type": "code",
      "metadata": {
        "id": "iJnmv_kUpBrE",
        "colab": {
          "base_uri": "https://localhost:8080/"
        },
        "outputId": "8ea7acdf-adc0-4bd7-8ef1-7e3f8ca8e93e"
      },
      "source": [
        "predictions[0].shape"
      ],
      "execution_count": null,
      "outputs": [
        {
          "output_type": "execute_result",
          "data": {
            "text/plain": [
              "(46,)"
            ]
          },
          "metadata": {},
          "execution_count": 22
        }
      ]
    },
    {
      "cell_type": "markdown",
      "metadata": {
        "id": "1DhJaaaMpBrF"
      },
      "source": [
        "The coefficients in this vector sum to 1:"
      ]
    },
    {
      "cell_type": "code",
      "metadata": {
        "id": "dc4HLaCypBrF",
        "colab": {
          "base_uri": "https://localhost:8080/"
        },
        "outputId": "c169f143-c4bd-42d3-bfa9-2229a756490d"
      },
      "source": [
        "np.sum(predictions[0])"
      ],
      "execution_count": null,
      "outputs": [
        {
          "output_type": "execute_result",
          "data": {
            "text/plain": [
              "1.0"
            ]
          },
          "metadata": {},
          "execution_count": 23
        }
      ]
    },
    {
      "cell_type": "markdown",
      "metadata": {
        "id": "_WORyRpupBrF"
      },
      "source": [
        "The largest entry is the predicted class, i.e. the class with the highest probability:"
      ]
    },
    {
      "cell_type": "code",
      "metadata": {
        "id": "Pe2l1py3pBrF",
        "colab": {
          "base_uri": "https://localhost:8080/"
        },
        "outputId": "133c3cbf-c828-4e4b-9cd7-5efb2e56b586"
      },
      "source": [
        "np.argmax(predictions[0])"
      ],
      "execution_count": null,
      "outputs": [
        {
          "output_type": "execute_result",
          "data": {
            "text/plain": [
              "3"
            ]
          },
          "metadata": {},
          "execution_count": 24
        }
      ]
    },
    {
      "cell_type": "markdown",
      "metadata": {
        "id": "VeDk3maxpBrF"
      },
      "source": [
        "## A different way to handle the labels and the loss\n",
        "\n",
        "We mentioned earlier that another way to encode the labels would be to cast them as an integer tensor, like such:"
      ]
    },
    {
      "cell_type": "code",
      "metadata": {
        "collapsed": true,
        "id": "4cbTnwNApBrG"
      },
      "source": [
        "y_train = np.array(train_labels)\n",
        "y_test = np.array(test_labels)"
      ],
      "execution_count": null,
      "outputs": []
    },
    {
      "cell_type": "markdown",
      "metadata": {
        "id": "DAe5oXWWpBrG"
      },
      "source": [
        "\n",
        "The only thing it would change is the choice of the loss function. Our previous loss, `categorical_crossentropy`, expects the labels to\n",
        "follow a categorical encoding. With integer labels, we should use `sparse_categorical_crossentropy`:"
      ]
    },
    {
      "cell_type": "code",
      "metadata": {
        "collapsed": true,
        "id": "7UYqsSTEpBrG"
      },
      "source": [
        "model.compile(optimizer='rmsprop', loss='sparse_categorical_crossentropy', metrics=['acc'])"
      ],
      "execution_count": null,
      "outputs": []
    },
    {
      "cell_type": "markdown",
      "metadata": {
        "id": "f6rykmbbpBrG"
      },
      "source": [
        "This new loss function is still mathematically the same as `categorical_crossentropy`; it just has a different interface."
      ]
    },
    {
      "cell_type": "markdown",
      "metadata": {
        "id": "oNcC-X4SpBrG"
      },
      "source": [
        "## On the importance of having sufficiently large intermediate layers\n",
        "\n",
        "\n",
        "We mentioned earlier that since our final outputs were 46-dimensional, we should avoid intermediate layers with much less than 46 hidden\n",
        "units. Now let's try to see what happens when we introduce an information bottleneck by having intermediate layers significantly less than\n",
        "46-dimensional, e.g. 4-dimensional."
      ]
    },
    {
      "cell_type": "code",
      "metadata": {
        "id": "KY1oMU97pBrG",
        "colab": {
          "base_uri": "https://localhost:8080/"
        },
        "outputId": "071edacf-5729-4fe1-f5fd-1962c84fcb5f"
      },
      "source": [
        "model = keras.Sequential()\n",
        "model.add(keras.layers.Dense(64, activation='relu', input_shape=(10000,)))\n",
        "model.add(keras.layers.Dense(4, activation='relu'))\n",
        "model.add(keras.layers.Dense(46, activation='softmax'))\n",
        "\n",
        "model.compile(optimizer='rmsprop',\n",
        "              loss='categorical_crossentropy',\n",
        "              metrics=['accuracy'])\n",
        "model.fit(partial_x_train,\n",
        "          partial_y_train,\n",
        "          epochs=20,\n",
        "          batch_size=128,\n",
        "          validation_data=(x_val, y_val))"
      ],
      "execution_count": null,
      "outputs": [
        {
          "output_type": "stream",
          "name": "stdout",
          "text": [
            "Epoch 1/20\n",
            "63/63 [==============================] - 2s 20ms/step - loss: 2.7947 - accuracy: 0.4540 - val_loss: 2.0376 - val_accuracy: 0.5840\n",
            "Epoch 2/20\n",
            "63/63 [==============================] - 1s 15ms/step - loss: 1.6390 - accuracy: 0.6559 - val_loss: 1.5141 - val_accuracy: 0.6610\n",
            "Epoch 3/20\n",
            "63/63 [==============================] - 1s 15ms/step - loss: 1.3091 - accuracy: 0.6951 - val_loss: 1.4080 - val_accuracy: 0.6750\n",
            "Epoch 4/20\n",
            "63/63 [==============================] - 1s 16ms/step - loss: 1.1552 - accuracy: 0.7216 - val_loss: 1.3433 - val_accuracy: 0.6930\n",
            "Epoch 5/20\n",
            "63/63 [==============================] - 2s 25ms/step - loss: 1.0413 - accuracy: 0.7463 - val_loss: 1.3003 - val_accuracy: 0.6980\n",
            "Epoch 6/20\n",
            "63/63 [==============================] - 1s 20ms/step - loss: 0.9504 - accuracy: 0.7685 - val_loss: 1.2866 - val_accuracy: 0.6980\n",
            "Epoch 7/20\n",
            "63/63 [==============================] - 1s 15ms/step - loss: 0.8698 - accuracy: 0.7944 - val_loss: 1.2866 - val_accuracy: 0.7210\n",
            "Epoch 8/20\n",
            "63/63 [==============================] - 1s 15ms/step - loss: 0.8030 - accuracy: 0.8051 - val_loss: 1.2766 - val_accuracy: 0.7180\n",
            "Epoch 9/20\n",
            "63/63 [==============================] - 1s 15ms/step - loss: 0.7449 - accuracy: 0.8176 - val_loss: 1.3069 - val_accuracy: 0.7190\n",
            "Epoch 10/20\n",
            "63/63 [==============================] - 1s 15ms/step - loss: 0.6951 - accuracy: 0.8240 - val_loss: 1.3181 - val_accuracy: 0.7070\n",
            "Epoch 11/20\n",
            "63/63 [==============================] - 1s 16ms/step - loss: 0.6556 - accuracy: 0.8305 - val_loss: 1.3267 - val_accuracy: 0.7150\n",
            "Epoch 12/20\n",
            "63/63 [==============================] - 1s 15ms/step - loss: 0.6181 - accuracy: 0.8344 - val_loss: 1.3692 - val_accuracy: 0.7200\n",
            "Epoch 13/20\n",
            "63/63 [==============================] - 1s 15ms/step - loss: 0.5898 - accuracy: 0.8378 - val_loss: 1.4011 - val_accuracy: 0.7060\n",
            "Epoch 14/20\n",
            "63/63 [==============================] - 1s 15ms/step - loss: 0.5637 - accuracy: 0.8443 - val_loss: 1.4384 - val_accuracy: 0.7210\n",
            "Epoch 15/20\n",
            "63/63 [==============================] - 1s 15ms/step - loss: 0.5397 - accuracy: 0.8472 - val_loss: 1.4625 - val_accuracy: 0.7110\n",
            "Epoch 16/20\n",
            "63/63 [==============================] - 1s 17ms/step - loss: 0.5183 - accuracy: 0.8542 - val_loss: 1.4724 - val_accuracy: 0.7160\n",
            "Epoch 17/20\n",
            "63/63 [==============================] - 2s 25ms/step - loss: 0.5000 - accuracy: 0.8574 - val_loss: 1.5593 - val_accuracy: 0.7080\n",
            "Epoch 18/20\n",
            "63/63 [==============================] - 1s 20ms/step - loss: 0.4869 - accuracy: 0.8602 - val_loss: 1.5811 - val_accuracy: 0.7120\n",
            "Epoch 19/20\n",
            "63/63 [==============================] - 1s 15ms/step - loss: 0.4715 - accuracy: 0.8634 - val_loss: 1.6170 - val_accuracy: 0.7210\n",
            "Epoch 20/20\n",
            "63/63 [==============================] - 1s 15ms/step - loss: 0.4555 - accuracy: 0.8691 - val_loss: 1.6724 - val_accuracy: 0.7170\n"
          ]
        },
        {
          "output_type": "execute_result",
          "data": {
            "text/plain": [
              "<keras.src.callbacks.History at 0x7ce29fe1fca0>"
            ]
          },
          "metadata": {},
          "execution_count": 27
        }
      ]
    },
    {
      "cell_type": "markdown",
      "metadata": {
        "id": "XaHwxf2QpBrH"
      },
      "source": [
        "\n",
        "Our network now seems to peak at ~71% test accuracy, a 8% absolute drop. This drop is mostly due to the fact that we are now trying to\n",
        "compress a lot of information (enough information to recover the separation hyperplanes of 46 classes) into an intermediate space that is\n",
        "too low-dimensional. The network is able to cram _most_ of the necessary information into these 8-dimensional representations, but not all\n",
        "of it."
      ]
    },
    {
      "cell_type": "markdown",
      "metadata": {
        "id": "Sj93pmpdpBrH"
      },
      "source": [
        "## Further experiments\n",
        "\n",
        "* Try using larger or smaller layers: 32 units, 128 units...\n",
        "* We were using two hidden layers. Now try to use a single hidden layer, or three hidden layers."
      ]
    },
    {
      "cell_type": "markdown",
      "metadata": {
        "id": "yrfVNJuVpBrH"
      },
      "source": [
        "## Wrapping up\n",
        "\n",
        "\n",
        "Here's what you should take away from this example:\n",
        "\n",
        "* If you are trying to classify data points between N classes, your network should end with a `Dense` layer of size N.\n",
        "* In a single-label, multi-class classification problem, your network should end with a `softmax` activation, so that it will output a\n",
        "probability distribution over the N output classes.\n",
        "* _Categorical crossentropy_ is almost always the loss function you should use for such problems. It minimizes the distance between the\n",
        "probability distributions output by the network, and the true distribution of the targets.\n",
        "* There are two ways to handle labels in multi-class classification:\n",
        "    ** Encoding the labels via \"categorical encoding\" (also known as \"one-hot encoding\") and using `categorical_crossentropy` as your loss\n",
        "function.\n",
        "    ** Encoding the labels as integers and using the `sparse_categorical_crossentropy` loss function.\n",
        "* If you need to classify data into a large number of categories, then you should avoid creating information bottlenecks in your network by having\n",
        "intermediate layers that are too small."
      ]
    }
  ]
}