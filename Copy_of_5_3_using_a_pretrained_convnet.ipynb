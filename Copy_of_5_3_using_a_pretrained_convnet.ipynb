{
  "nbformat": 4,
  "nbformat_minor": 0,
  "metadata": {
    "kernelspec": {
      "display_name": "Python 3",
      "language": "python",
      "name": "python3"
    },
    "language_info": {
      "codemirror_mode": {
        "name": "ipython",
        "version": 3
      },
      "file_extension": ".py",
      "mimetype": "text/x-python",
      "name": "python",
      "nbconvert_exporter": "python",
      "pygments_lexer": "ipython3",
      "version": "3.5.2"
    },
    "colab": {
      "provenance": [],
      "include_colab_link": true
    },
    "accelerator": "GPU"
  },
  "cells": [
    {
      "cell_type": "markdown",
      "metadata": {
        "id": "view-in-github",
        "colab_type": "text"
      },
      "source": [
        "<a href=\"https://colab.research.google.com/github/eecoubrough/Keras_Labs/blob/main/Copy_of_5_3_using_a_pretrained_convnet.ipynb\" target=\"_parent\"><img src=\"https://colab.research.google.com/assets/colab-badge.svg\" alt=\"Open In Colab\"/></a>"
      ]
    },
    {
      "cell_type": "code",
      "metadata": {
        "id": "VkfbkZO8I1HO",
        "colab": {
          "base_uri": "https://localhost:8080/",
          "height": 35
        },
        "outputId": "b510f159-791f-46cd-8e18-42d1780cdc77"
      },
      "source": [
        "import keras\n",
        "keras.__version__"
      ],
      "execution_count": null,
      "outputs": [
        {
          "output_type": "execute_result",
          "data": {
            "text/plain": [
              "'2.15.0'"
            ],
            "application/vnd.google.colaboratory.intrinsic+json": {
              "type": "string"
            }
          },
          "metadata": {},
          "execution_count": 1
        }
      ]
    },
    {
      "cell_type": "markdown",
      "metadata": {
        "id": "4RkxW6AnI1HU"
      },
      "source": [
        "# Using a pre-trained convnet\n",
        "\n",
        "This notebook contains the code sample found in Chapter 5, Section 3 of [Deep Learning with Python](https://www.manning.com/books/deep-learning-with-python?a_aid=keras&a_bid=76564dff). Note that the original text features far more content, in particular further explanations and figures: in this notebook, you will only find source code and related comments.\n",
        "\n",
        "----\n",
        "\n",
        "A common and highly effective approach to deep learning on small image datasets is to leverage a pre-trained network. A pre-trained network\n",
        "is simply a saved network previously trained on a large dataset, typically on a large-scale image classification task. If this original\n",
        "dataset is large enough and general enough, then the spatial feature hierarchy learned by the pre-trained network can effectively act as a\n",
        "generic model of our visual world, and hence its features can prove useful for many different computer vision problems, even though these\n",
        "new problems might involve completely different classes from those of the original task. For instance, one might train a network on\n",
        "ImageNet (where classes are mostly animals and everyday objects) and then re-purpose this trained network for something as remote as\n",
        "identifying furniture items in images. Such portability of learned features across different problems is a key advantage of deep learning\n",
        "compared to many older shallow learning approaches, and it makes deep learning very effective for small-data problems.\n",
        "\n",
        "In our case, we will consider a large convnet trained on the ImageNet dataset (1.4 million labeled images and 1000 different classes).\n",
        "ImageNet contains many animal classes, including different species of cats and dogs, and we can thus expect to perform very well on our cat\n",
        "vs. dog classification problem.\n",
        "\n",
        "We will use the VGG16 architecture, developed by Karen Simonyan and Andrew Zisserman in 2014, a simple and widely used convnet architecture\n",
        "for ImageNet. Although it is a bit of an older model, far from the current state of the art and somewhat heavier than many other recent\n",
        "models, we chose it because its architecture is similar to what you are already familiar with, and easy to understand without introducing\n",
        "any new concepts. This may be your first encounter with one of these cutesie model names -- VGG, ResNet, Inception, Inception-ResNet,\n",
        "Xception... you will get used to them, as they will come up frequently if you keep doing deep learning for computer vision.\n",
        "\n",
        "There are two ways to leverage a pre-trained network: *feature extraction* and *fine-tuning*. We will cover both of them. Let's start with\n",
        "feature extraction."
      ]
    },
    {
      "cell_type": "code",
      "metadata": {
        "id": "sE-reAQPJE9c",
        "colab": {
          "base_uri": "https://localhost:8080/"
        },
        "outputId": "673b7242-0953-40ce-fc74-540b06ec723c"
      },
      "source": [
        "!wget \"https://download.microsoft.com/download/3/E/1/3E1C3F21-ECDB-4869-8368-6DEBA77B919F/kagglecatsanddogs_5340.zip\"\n",
        "!unzip -q kagglecatsanddogs_5340.zip"
      ],
      "execution_count": null,
      "outputs": [
        {
          "output_type": "stream",
          "name": "stdout",
          "text": [
            "--2024-03-12 14:08:22--  https://download.microsoft.com/download/3/E/1/3E1C3F21-ECDB-4869-8368-6DEBA77B919F/kagglecatsanddogs_5340.zip\n",
            "Resolving download.microsoft.com (download.microsoft.com)... 104.123.44.196, 2a02:26f0:fd00:1285::317f, 2a02:26f0:fd00:129c::317f\n",
            "Connecting to download.microsoft.com (download.microsoft.com)|104.123.44.196|:443... connected.\n",
            "HTTP request sent, awaiting response... 200 OK\n",
            "Length: 824887076 (787M) [application/octet-stream]\n",
            "Saving to: ‘kagglecatsanddogs_5340.zip’\n",
            "\n",
            "kagglecatsanddogs_5 100%[===================>] 786.67M  85.3MB/s    in 7.5s    \n",
            "\n",
            "2024-03-12 14:08:29 (104 MB/s) - ‘kagglecatsanddogs_5340.zip’ saved [824887076/824887076]\n",
            "\n"
          ]
        }
      ]
    },
    {
      "cell_type": "code",
      "metadata": {
        "id": "4hayR4SxJF6h"
      },
      "source": [
        "import os, shutil\n",
        "\n",
        "os.remove(\"PetImages/Cat/666.jpg\")\n",
        "os.remove(\"PetImages/Dog/11702.jpg\")\n",
        "\n",
        "os.makedirs(\"train/cats\", exist_ok=True)\n",
        "os.makedirs(\"train/dogs\", exist_ok=True)\n",
        "os.makedirs(\"validation/cats\", exist_ok=True)\n",
        "os.makedirs(\"validation/dogs\", exist_ok=True)\n",
        "os.makedirs(\"test/cats\", exist_ok=True)\n",
        "os.makedirs(\"test/dogs\", exist_ok=True)\n",
        "\n",
        "cat_filenames = [\"PetImages/Cat/\" + x for x in os.listdir(\"PetImages/Cat\")]\n",
        "dog_filenames = [\"PetImages/Dog/\" + x for x in os.listdir(\"PetImages/Dog\")]\n",
        "\n",
        "for i in range(1000):\n",
        "    shutil.copyfile(cat_filenames[i], \"train/cats/\" + cat_filenames[i].split('/')[-1])\n",
        "    shutil.copyfile(dog_filenames[i], \"train/dogs/\" + dog_filenames[i].split('/')[-1])\n",
        "\n",
        "for i in range(1000, 1500):\n",
        "    shutil.copyfile(cat_filenames[i], \"validation/cats/\" + cat_filenames[i].split('/')[-1])\n",
        "    shutil.copyfile(dog_filenames[i], \"validation/dogs/\" + dog_filenames[i].split('/')[-1])\n",
        "\n",
        "for i in range(1500, 2000):\n",
        "    shutil.copyfile(cat_filenames[i], \"test/cats/\" + cat_filenames[i].split('/')[-1])\n",
        "    shutil.copyfile(dog_filenames[i], \"test/dogs/\" + dog_filenames[i].split('/')[-1])"
      ],
      "execution_count": null,
      "outputs": []
    },
    {
      "cell_type": "code",
      "metadata": {
        "id": "W6u1TQygJTpB"
      },
      "source": [
        "# Delete unnecessary files\n",
        "!rm -rf PetImages sample_data MSR-* kaggle* readme*"
      ],
      "execution_count": null,
      "outputs": []
    },
    {
      "cell_type": "markdown",
      "metadata": {
        "id": "AFPZEfrPI1HV"
      },
      "source": [
        "## Feature extraction\n",
        "\n",
        "Feature extraction consists of using the representations learned by a previous network to extract interesting features from new samples.\n",
        "These features are then run through a new classifier, which is trained from scratch.\n",
        "\n",
        "As we saw previously, convnets used for image classification comprise two parts: they start with a series of pooling and convolution\n",
        "layers, and they end with a densely-connected classifier. The first part is called the \"convolutional base\" of the model. In the case of\n",
        "convnets, \"feature extraction\" will simply consist of taking the convolutional base of a previously-trained network, running the new data\n",
        "through it, and training a new classifier on top of the output.\n",
        "\n",
        "![swapping FC classifiers](https://s3.amazonaws.com/book.keras.io/img/ch5/swapping_fc_classifier.png)\n",
        "\n",
        "Why only reuse the convolutional base? Could we reuse the densely-connected classifier as well? In general, it should be avoided. The\n",
        "reason is simply that the representations learned by the convolutional base are likely to be more generic and therefore more reusable: the\n",
        "feature maps of a convnet are presence maps of generic concepts over a picture, which is likely to be useful regardless of the computer\n",
        "vision problem at hand. On the other end, the representations learned by the classifier will necessarily be very specific to the set of\n",
        "classes that the model was trained on -- they will only contain information about the presence probability of this or that class in the\n",
        "entire picture. Additionally, representations found in densely-connected layers no longer contain any information about _where_ objects are\n",
        "located in the input image: these layers get rid of the notion of space, whereas the object location is still described by convolutional\n",
        "feature maps. For problems where object location matters, densely-connected features would be largely useless.\n",
        "\n",
        "Note that the level of generality (and therefore reusability) of the representations extracted by specific convolution layers depends on\n",
        "the depth of the layer in the model. Layers that come earlier in the model extract local, highly generic feature maps (such as visual\n",
        "edges, colors, and textures), while layers higher-up extract more abstract concepts (such as \"cat ear\" or \"dog eye\"). So if your new\n",
        "dataset differs a lot from the dataset that the original model was trained on, you may be better off using only the first few layers of the\n",
        "model to do feature extraction, rather than using the entire convolutional base.\n",
        "\n",
        "In our case, since the ImageNet class set did contain multiple dog and cat classes, it is likely that it would be beneficial to reuse the\n",
        "information contained in the densely-connected layers of the original model. However, we will chose not to, in order to cover the more\n",
        "general case where the class set of the new problem does not overlap with the class set of the original model."
      ]
    },
    {
      "cell_type": "markdown",
      "metadata": {
        "id": "YuzNbvzFI1HV"
      },
      "source": [
        "Let's put this in practice by using the convolutional base of the VGG16 network, trained on ImageNet, to extract interesting features from\n",
        "our cat and dog images, and then training a cat vs. dog classifier on top of these features.\n",
        "\n",
        "The VGG16 model, among others, comes pre-packaged with Keras. You can import it from the `keras.applications` module. Here's the list of\n",
        "image classification models (all pre-trained on the ImageNet dataset) that are available as part of `keras.applications`:\n",
        "\n",
        "* Xception\n",
        "* InceptionV3\n",
        "* ResNet50\n",
        "* VGG16\n",
        "* VGG19\n",
        "* MobileNet\n",
        "\n",
        "Let's instantiate the VGG16 model:"
      ]
    },
    {
      "cell_type": "code",
      "metadata": {
        "collapsed": true,
        "id": "tbCLjhIdI1HW",
        "colab": {
          "base_uri": "https://localhost:8080/"
        },
        "outputId": "a98ec474-dd07-47c9-ba2a-e0d648e87d07"
      },
      "source": [
        "conv_base = keras.applications.VGG16(weights='imagenet',\n",
        "                  include_top=False,\n",
        "                  input_shape=(150, 150, 3))"
      ],
      "execution_count": null,
      "outputs": [
        {
          "output_type": "stream",
          "name": "stdout",
          "text": [
            "Downloading data from https://storage.googleapis.com/tensorflow/keras-applications/vgg16/vgg16_weights_tf_dim_ordering_tf_kernels_notop.h5\n",
            "58889256/58889256 [==============================] - 2s 0us/step\n"
          ]
        }
      ]
    },
    {
      "cell_type": "markdown",
      "metadata": {
        "id": "GwxZWAqDI1HW"
      },
      "source": [
        "We passed three arguments to the constructor:\n",
        "\n",
        "* `weights`, to specify which weight checkpoint to initialize the model from\n",
        "* `include_top`, which refers to including or not the densely-connected classifier on top of the network. By default, this\n",
        "densely-connected classifier would correspond to the 1000 classes from ImageNet. Since we intend to use our own densely-connected\n",
        "classifier (with only two classes, cat and dog), we don't need to include it.\n",
        "* `input_shape`, the shape of the image tensors that we will feed to the network. This argument is purely optional: if we don't pass it,\n",
        "then the network will be able to process inputs of any size.\n",
        "\n",
        "Here's the detail of the architecture of the VGG16 convolutional base: it's very similar to the simple convnets that you are already\n",
        "familiar with."
      ]
    },
    {
      "cell_type": "code",
      "metadata": {
        "id": "JfeJ68tuI1HW",
        "colab": {
          "base_uri": "https://localhost:8080/"
        },
        "outputId": "4bf462f4-5113-4af4-d99c-73874c97cc78"
      },
      "source": [
        "conv_base.summary()"
      ],
      "execution_count": null,
      "outputs": [
        {
          "output_type": "stream",
          "name": "stdout",
          "text": [
            "Model: \"vgg16\"\n",
            "_________________________________________________________________\n",
            " Layer (type)                Output Shape              Param #   \n",
            "=================================================================\n",
            " input_1 (InputLayer)        [(None, 150, 150, 3)]     0         \n",
            "                                                                 \n",
            " block1_conv1 (Conv2D)       (None, 150, 150, 64)      1792      \n",
            "                                                                 \n",
            " block1_conv2 (Conv2D)       (None, 150, 150, 64)      36928     \n",
            "                                                                 \n",
            " block1_pool (MaxPooling2D)  (None, 75, 75, 64)        0         \n",
            "                                                                 \n",
            " block2_conv1 (Conv2D)       (None, 75, 75, 128)       73856     \n",
            "                                                                 \n",
            " block2_conv2 (Conv2D)       (None, 75, 75, 128)       147584    \n",
            "                                                                 \n",
            " block2_pool (MaxPooling2D)  (None, 37, 37, 128)       0         \n",
            "                                                                 \n",
            " block3_conv1 (Conv2D)       (None, 37, 37, 256)       295168    \n",
            "                                                                 \n",
            " block3_conv2 (Conv2D)       (None, 37, 37, 256)       590080    \n",
            "                                                                 \n",
            " block3_conv3 (Conv2D)       (None, 37, 37, 256)       590080    \n",
            "                                                                 \n",
            " block3_pool (MaxPooling2D)  (None, 18, 18, 256)       0         \n",
            "                                                                 \n",
            " block4_conv1 (Conv2D)       (None, 18, 18, 512)       1180160   \n",
            "                                                                 \n",
            " block4_conv2 (Conv2D)       (None, 18, 18, 512)       2359808   \n",
            "                                                                 \n",
            " block4_conv3 (Conv2D)       (None, 18, 18, 512)       2359808   \n",
            "                                                                 \n",
            " block4_pool (MaxPooling2D)  (None, 9, 9, 512)         0         \n",
            "                                                                 \n",
            " block5_conv1 (Conv2D)       (None, 9, 9, 512)         2359808   \n",
            "                                                                 \n",
            " block5_conv2 (Conv2D)       (None, 9, 9, 512)         2359808   \n",
            "                                                                 \n",
            " block5_conv3 (Conv2D)       (None, 9, 9, 512)         2359808   \n",
            "                                                                 \n",
            " block5_pool (MaxPooling2D)  (None, 4, 4, 512)         0         \n",
            "                                                                 \n",
            "=================================================================\n",
            "Total params: 14714688 (56.13 MB)\n",
            "Trainable params: 14714688 (56.13 MB)\n",
            "Non-trainable params: 0 (0.00 Byte)\n",
            "_________________________________________________________________\n"
          ]
        }
      ]
    },
    {
      "cell_type": "markdown",
      "metadata": {
        "id": "zEs_A0uUI1HX"
      },
      "source": [
        "The final feature map has shape `(4, 4, 512)`. That's the feature on top of which we will stick a densely-connected classifier.\n",
        "\n",
        "At this point, there are two ways we could proceed:\n",
        "\n",
        "* Running the convolutional base over our dataset, recording its output to a Numpy array on disk, then using this data as input to a\n",
        "standalone densely-connected classifier similar to those you have seen in the first chapters of this book. This solution is very fast and\n",
        "cheap to run, because it only requires running the convolutional base once for every input image, and the convolutional base is by far the\n",
        "most expensive part of the pipeline. However, for the exact same reason, this technique would not allow us to leverage data augmentation at\n",
        "all.\n",
        "* Extending the model we have (`conv_base`) by adding `Dense` layers on top, and running the whole thing end-to-end on the input data. This\n",
        "allows us to use data augmentation, because every input image is going through the convolutional base every time it is seen by the model.\n",
        "However, for this same reason, this technique is far more expensive than the first one.\n",
        "\n",
        "We will cover both techniques. Let's walk through the code required to set-up the first one: recording the output of `conv_base` on our\n",
        "data and using these outputs as inputs to a new model.\n",
        "\n",
        "We will start by simply running instances of the previously-introduced `ImageDataGenerator` to extract images as Numpy arrays as well as\n",
        "their labels. We will extract features from these images simply by calling the `predict` method of the `conv_base` model."
      ]
    },
    {
      "cell_type": "code",
      "metadata": {
        "id": "jAmMlfzHI1HX",
        "colab": {
          "base_uri": "https://localhost:8080/"
        },
        "outputId": "c826cc6a-ac6b-4ab3-e563-48081bbb879a"
      },
      "source": [
        "import os\n",
        "import numpy as np\n",
        "\n",
        "datagen = keras.preprocessing.image.ImageDataGenerator(rescale=1./255)\n",
        "batch_size = 20\n",
        "\n",
        "def extract_features(directory, sample_count):\n",
        "    features = np.zeros(shape=(sample_count, 4, 4, 512))\n",
        "    labels = np.zeros(shape=(sample_count))\n",
        "    generator = datagen.flow_from_directory(\n",
        "        directory,\n",
        "        target_size=(150, 150),\n",
        "        batch_size=batch_size,\n",
        "        class_mode='binary')\n",
        "    i = 0\n",
        "    for inputs_batch, labels_batch in generator:\n",
        "        features_batch = conv_base.predict(inputs_batch)\n",
        "        features[i * batch_size : (i + 1) * batch_size] = features_batch\n",
        "        labels[i * batch_size : (i + 1) * batch_size] = labels_batch\n",
        "        i += 1\n",
        "        if i * batch_size >= sample_count:\n",
        "            # Note that since generators yield data indefinitely in a loop,\n",
        "            # we must `break` after every image has been seen once.\n",
        "            break\n",
        "    return features, labels\n",
        "\n",
        "train_features, train_labels = extract_features(\"train\", 2000)\n",
        "validation_features, validation_labels = extract_features(\"validation\", 1000)\n",
        "test_features, test_labels = extract_features(\"test\", 1000)"
      ],
      "execution_count": null,
      "outputs": [
        {
          "output_type": "stream",
          "name": "stdout",
          "text": [
            "Found 2000 images belonging to 2 classes.\n",
            "1/1 [==============================] - 4s 4s/step\n",
            "1/1 [==============================] - 0s 22ms/step\n",
            "1/1 [==============================] - 0s 24ms/step\n",
            "1/1 [==============================] - 0s 22ms/step\n",
            "1/1 [==============================] - 0s 22ms/step\n",
            "1/1 [==============================] - 0s 23ms/step\n",
            "1/1 [==============================] - 0s 23ms/step\n",
            "1/1 [==============================] - 0s 24ms/step\n",
            "1/1 [==============================] - 0s 25ms/step\n",
            "1/1 [==============================] - 0s 21ms/step\n",
            "1/1 [==============================] - 0s 21ms/step\n",
            "1/1 [==============================] - 0s 20ms/step\n",
            "1/1 [==============================] - 0s 20ms/step\n",
            "1/1 [==============================] - 0s 19ms/step\n",
            "1/1 [==============================] - 0s 21ms/step\n",
            "1/1 [==============================] - 0s 23ms/step\n",
            "1/1 [==============================] - 0s 22ms/step\n",
            "1/1 [==============================] - 0s 27ms/step\n",
            "1/1 [==============================] - 0s 21ms/step\n",
            "1/1 [==============================] - 0s 20ms/step\n",
            "1/1 [==============================] - 0s 20ms/step\n",
            "1/1 [==============================] - 0s 21ms/step\n",
            "1/1 [==============================] - 0s 19ms/step\n",
            "1/1 [==============================] - 0s 22ms/step\n",
            "1/1 [==============================] - 0s 19ms/step\n",
            "1/1 [==============================] - 0s 21ms/step\n",
            "1/1 [==============================] - 0s 22ms/step\n",
            "1/1 [==============================] - 0s 22ms/step\n",
            "1/1 [==============================] - 0s 23ms/step\n",
            "1/1 [==============================] - 0s 19ms/step\n",
            "1/1 [==============================] - 0s 22ms/step\n",
            "1/1 [==============================] - 0s 20ms/step\n",
            "1/1 [==============================] - 0s 20ms/step\n",
            "1/1 [==============================] - 0s 28ms/step\n",
            "1/1 [==============================] - 0s 22ms/step\n",
            "1/1 [==============================] - 0s 19ms/step\n",
            "1/1 [==============================] - 0s 21ms/step\n",
            "1/1 [==============================] - 0s 21ms/step\n",
            "1/1 [==============================] - 0s 36ms/step\n",
            "1/1 [==============================] - 0s 30ms/step\n",
            "1/1 [==============================] - 0s 29ms/step\n",
            "1/1 [==============================] - 0s 29ms/step\n",
            "1/1 [==============================] - 0s 26ms/step\n",
            "1/1 [==============================] - 0s 29ms/step\n",
            "1/1 [==============================] - 0s 31ms/step\n",
            "1/1 [==============================] - 0s 37ms/step\n",
            "1/1 [==============================] - 0s 28ms/step\n",
            "1/1 [==============================] - 0s 31ms/step\n",
            "1/1 [==============================] - 0s 31ms/step\n",
            "1/1 [==============================] - 0s 35ms/step\n",
            "1/1 [==============================] - 0s 20ms/step\n",
            "1/1 [==============================] - 0s 21ms/step\n",
            "1/1 [==============================] - 0s 27ms/step\n",
            "1/1 [==============================] - 0s 19ms/step\n",
            "1/1 [==============================] - 0s 21ms/step\n",
            "1/1 [==============================] - 0s 21ms/step\n",
            "1/1 [==============================] - 0s 20ms/step\n",
            "1/1 [==============================] - 0s 20ms/step\n",
            "1/1 [==============================] - 0s 19ms/step\n",
            "1/1 [==============================] - 0s 22ms/step\n",
            "1/1 [==============================] - 0s 20ms/step\n",
            "1/1 [==============================] - 0s 19ms/step\n",
            "1/1 [==============================] - 0s 20ms/step\n",
            "1/1 [==============================] - 0s 20ms/step\n",
            "1/1 [==============================] - 0s 22ms/step\n",
            "1/1 [==============================] - 0s 22ms/step\n",
            "1/1 [==============================] - 0s 21ms/step\n",
            "1/1 [==============================] - 0s 22ms/step\n",
            "1/1 [==============================] - 0s 24ms/step\n",
            "1/1 [==============================] - 0s 19ms/step\n",
            "1/1 [==============================] - 0s 19ms/step\n",
            "1/1 [==============================] - 0s 20ms/step\n",
            "1/1 [==============================] - 0s 19ms/step\n",
            "1/1 [==============================] - 0s 20ms/step\n",
            "1/1 [==============================] - 0s 20ms/step\n",
            "1/1 [==============================] - 0s 21ms/step\n",
            "1/1 [==============================] - 0s 20ms/step\n",
            "1/1 [==============================] - 0s 20ms/step\n",
            "1/1 [==============================] - 0s 19ms/step\n",
            "1/1 [==============================] - 0s 23ms/step\n",
            "1/1 [==============================] - 0s 20ms/step\n",
            "1/1 [==============================] - 0s 20ms/step\n",
            "1/1 [==============================] - 0s 21ms/step\n",
            "1/1 [==============================] - 0s 20ms/step\n",
            "1/1 [==============================] - 0s 20ms/step\n",
            "1/1 [==============================] - 0s 20ms/step\n",
            "1/1 [==============================] - 0s 19ms/step\n",
            "1/1 [==============================] - 0s 22ms/step\n",
            "1/1 [==============================] - 0s 19ms/step\n",
            "1/1 [==============================] - 0s 20ms/step\n",
            "1/1 [==============================] - 0s 20ms/step\n",
            "1/1 [==============================] - 0s 23ms/step\n",
            "1/1 [==============================] - 0s 20ms/step\n",
            "1/1 [==============================] - 0s 19ms/step\n",
            "1/1 [==============================] - 0s 21ms/step\n",
            "1/1 [==============================] - 0s 23ms/step\n",
            "1/1 [==============================] - 0s 21ms/step\n",
            "1/1 [==============================] - 0s 20ms/step\n",
            "1/1 [==============================] - 0s 24ms/step\n",
            "1/1 [==============================] - 0s 20ms/step\n",
            "Found 1000 images belonging to 2 classes.\n",
            "1/1 [==============================] - 0s 19ms/step\n",
            "1/1 [==============================] - 0s 23ms/step\n",
            "1/1 [==============================] - 0s 20ms/step\n",
            "1/1 [==============================] - 0s 19ms/step\n",
            "1/1 [==============================] - 0s 20ms/step\n",
            "1/1 [==============================] - 0s 22ms/step\n",
            "1/1 [==============================] - 0s 22ms/step\n",
            "1/1 [==============================] - 0s 19ms/step\n",
            "1/1 [==============================] - 0s 20ms/step\n",
            "1/1 [==============================] - 0s 19ms/step\n",
            "1/1 [==============================] - 0s 20ms/step\n",
            "1/1 [==============================] - 0s 20ms/step\n",
            "1/1 [==============================] - 0s 20ms/step\n",
            "1/1 [==============================] - 0s 19ms/step\n",
            "1/1 [==============================] - 0s 20ms/step\n",
            "1/1 [==============================] - 0s 19ms/step\n",
            "1/1 [==============================] - 0s 34ms/step\n",
            "1/1 [==============================] - 0s 27ms/step\n",
            "1/1 [==============================] - 0s 29ms/step\n",
            "1/1 [==============================] - 0s 28ms/step\n",
            "1/1 [==============================] - 0s 31ms/step\n",
            "1/1 [==============================] - 0s 29ms/step\n",
            "1/1 [==============================] - 0s 33ms/step\n",
            "1/1 [==============================] - 0s 34ms/step\n",
            "1/1 [==============================] - 0s 30ms/step\n",
            "1/1 [==============================] - 0s 42ms/step\n",
            "1/1 [==============================] - 0s 33ms/step\n",
            "1/1 [==============================] - 0s 21ms/step\n",
            "1/1 [==============================] - 0s 20ms/step\n",
            "1/1 [==============================] - 0s 21ms/step\n",
            "1/1 [==============================] - 0s 21ms/step\n",
            "1/1 [==============================] - 0s 19ms/step\n",
            "1/1 [==============================] - 0s 21ms/step\n",
            "1/1 [==============================] - 0s 20ms/step\n",
            "1/1 [==============================] - 0s 21ms/step\n",
            "1/1 [==============================] - 0s 20ms/step\n",
            "1/1 [==============================] - 0s 20ms/step\n",
            "1/1 [==============================] - 0s 20ms/step\n",
            "1/1 [==============================] - 0s 20ms/step\n",
            "1/1 [==============================] - 0s 21ms/step\n",
            "1/1 [==============================] - 0s 19ms/step\n",
            "1/1 [==============================] - 0s 21ms/step\n",
            "1/1 [==============================] - 0s 22ms/step\n",
            "1/1 [==============================] - 0s 19ms/step\n",
            "1/1 [==============================] - 0s 19ms/step\n",
            "1/1 [==============================] - 0s 19ms/step\n",
            "1/1 [==============================] - 0s 21ms/step\n",
            "1/1 [==============================] - 0s 22ms/step\n",
            "1/1 [==============================] - 0s 20ms/step\n",
            "1/1 [==============================] - 0s 22ms/step\n",
            "Found 1000 images belonging to 2 classes.\n",
            "1/1 [==============================] - 0s 19ms/step\n",
            "1/1 [==============================] - 0s 19ms/step\n",
            "1/1 [==============================] - 0s 20ms/step\n",
            "1/1 [==============================] - 0s 21ms/step\n",
            "1/1 [==============================] - 0s 20ms/step\n",
            "1/1 [==============================] - 0s 19ms/step\n",
            "1/1 [==============================] - 0s 21ms/step\n",
            "1/1 [==============================] - 0s 20ms/step\n",
            "1/1 [==============================] - 0s 19ms/step\n",
            "1/1 [==============================] - 0s 20ms/step\n",
            "1/1 [==============================] - 0s 20ms/step\n",
            "1/1 [==============================] - 0s 20ms/step\n",
            "1/1 [==============================] - 0s 20ms/step\n",
            "1/1 [==============================] - 0s 19ms/step\n",
            "1/1 [==============================] - 0s 20ms/step\n",
            "1/1 [==============================] - 0s 19ms/step\n",
            "1/1 [==============================] - 0s 20ms/step\n",
            "1/1 [==============================] - 0s 35ms/step\n",
            "1/1 [==============================] - 0s 20ms/step\n",
            "1/1 [==============================] - 0s 19ms/step\n",
            "1/1 [==============================] - 0s 19ms/step\n",
            "1/1 [==============================] - 0s 19ms/step\n",
            "1/1 [==============================] - 0s 19ms/step\n",
            "1/1 [==============================] - 0s 19ms/step\n",
            "1/1 [==============================] - 0s 21ms/step\n",
            "1/1 [==============================] - 0s 20ms/step\n",
            "1/1 [==============================] - 0s 20ms/step\n",
            "1/1 [==============================] - 0s 20ms/step\n",
            "1/1 [==============================] - 0s 19ms/step\n",
            "1/1 [==============================] - 0s 20ms/step\n",
            "1/1 [==============================] - 0s 19ms/step\n",
            "1/1 [==============================] - 0s 20ms/step\n",
            "1/1 [==============================] - 0s 20ms/step\n",
            "1/1 [==============================] - 0s 20ms/step\n",
            "1/1 [==============================] - 0s 22ms/step\n",
            "1/1 [==============================] - 0s 19ms/step\n",
            "1/1 [==============================] - 0s 19ms/step\n",
            "1/1 [==============================] - 0s 19ms/step\n",
            "1/1 [==============================] - 0s 20ms/step\n",
            "1/1 [==============================] - 0s 20ms/step\n",
            "1/1 [==============================] - 0s 20ms/step\n",
            "1/1 [==============================] - 0s 20ms/step\n",
            "1/1 [==============================] - 0s 20ms/step\n",
            "1/1 [==============================] - 0s 23ms/step\n",
            "1/1 [==============================] - 0s 20ms/step\n",
            "1/1 [==============================] - 0s 19ms/step\n",
            "1/1 [==============================] - 0s 23ms/step\n",
            "1/1 [==============================] - 0s 29ms/step\n",
            "1/1 [==============================] - 0s 30ms/step\n",
            "1/1 [==============================] - 0s 29ms/step\n"
          ]
        }
      ]
    },
    {
      "cell_type": "markdown",
      "metadata": {
        "id": "ci-LCfndI1HY"
      },
      "source": [
        "The extracted features are currently of shape `(samples, 4, 4, 512)`. We will feed them to a densely-connected classifier, so first we must\n",
        "flatten them to `(samples, 8192)`:"
      ]
    },
    {
      "cell_type": "code",
      "metadata": {
        "collapsed": true,
        "id": "nKR3xzo6I1HY"
      },
      "source": [
        "train_features = np.reshape(train_features, (2000, 4 * 4 * 512))\n",
        "validation_features = np.reshape(validation_features, (1000, 4 * 4 * 512))\n",
        "test_features = np.reshape(test_features, (1000, 4 * 4 * 512))"
      ],
      "execution_count": null,
      "outputs": []
    },
    {
      "cell_type": "markdown",
      "metadata": {
        "id": "OAY50U3gI1HY"
      },
      "source": [
        "At this point, we can define our densely-connected classifier (note the use of dropout for regularization), and train it on the data and\n",
        "labels that we just recorded:"
      ]
    },
    {
      "cell_type": "code",
      "metadata": {
        "id": "uLuluFBII1HZ",
        "colab": {
          "base_uri": "https://localhost:8080/"
        },
        "outputId": "d155e924-3296-4136-e421-06cf0563397b"
      },
      "source": [
        "model = keras.Sequential()\n",
        "model.add(keras.layers.Dense(256, activation='relu', input_dim=4 * 4 * 512))\n",
        "model.add(keras.layers.Dropout(0.5))\n",
        "model.add(keras.layers.Dense(1, activation='sigmoid'))\n",
        "\n",
        "model.compile(optimizer=keras.optimizers.RMSprop(learning_rate=2e-5),\n",
        "              loss='binary_crossentropy',\n",
        "              metrics=['acc'])\n",
        "\n",
        "history = model.fit(train_features, train_labels,\n",
        "                    epochs=30,\n",
        "                    batch_size=20,\n",
        "                    validation_data=(validation_features, validation_labels))"
      ],
      "execution_count": null,
      "outputs": [
        {
          "output_type": "stream",
          "name": "stderr",
          "text": [
            "WARNING:absl:`lr` is deprecated in Keras optimizer, please use `learning_rate` or use the legacy optimizer, e.g.,tf.keras.optimizers.legacy.RMSprop.\n"
          ]
        },
        {
          "output_type": "stream",
          "name": "stdout",
          "text": [
            "Epoch 1/30\n",
            "100/100 [==============================] - 4s 7ms/step - loss: 0.5876 - acc: 0.7840 - val_loss: 0.2853 - val_acc: 0.8740\n",
            "Epoch 2/30\n",
            "100/100 [==============================] - 0s 4ms/step - loss: 0.3269 - acc: 0.8635 - val_loss: 0.2795 - val_acc: 0.8760\n",
            "Epoch 3/30\n",
            "100/100 [==============================] - 0s 4ms/step - loss: 0.2830 - acc: 0.8810 - val_loss: 0.2690 - val_acc: 0.8830\n",
            "Epoch 4/30\n",
            "100/100 [==============================] - 0s 4ms/step - loss: 0.2478 - acc: 0.9090 - val_loss: 0.2722 - val_acc: 0.8810\n",
            "Epoch 5/30\n",
            "100/100 [==============================] - 0s 4ms/step - loss: 0.2152 - acc: 0.9165 - val_loss: 0.3692 - val_acc: 0.8620\n",
            "Epoch 6/30\n",
            "100/100 [==============================] - 0s 4ms/step - loss: 0.1825 - acc: 0.9275 - val_loss: 0.2552 - val_acc: 0.8920\n",
            "Epoch 7/30\n",
            "100/100 [==============================] - 0s 4ms/step - loss: 0.1676 - acc: 0.9385 - val_loss: 0.2675 - val_acc: 0.8960\n",
            "Epoch 8/30\n",
            "100/100 [==============================] - 0s 4ms/step - loss: 0.1512 - acc: 0.9385 - val_loss: 0.2770 - val_acc: 0.8900\n",
            "Epoch 9/30\n",
            "100/100 [==============================] - 0s 4ms/step - loss: 0.1396 - acc: 0.9460 - val_loss: 0.4254 - val_acc: 0.8600\n",
            "Epoch 10/30\n",
            "100/100 [==============================] - 0s 4ms/step - loss: 0.1127 - acc: 0.9550 - val_loss: 0.3270 - val_acc: 0.8810\n",
            "Epoch 11/30\n",
            "100/100 [==============================] - 0s 4ms/step - loss: 0.0941 - acc: 0.9625 - val_loss: 0.3378 - val_acc: 0.8870\n",
            "Epoch 12/30\n",
            "100/100 [==============================] - 0s 4ms/step - loss: 0.0996 - acc: 0.9615 - val_loss: 0.3738 - val_acc: 0.8770\n",
            "Epoch 13/30\n",
            "100/100 [==============================] - 0s 5ms/step - loss: 0.0797 - acc: 0.9730 - val_loss: 0.3849 - val_acc: 0.8920\n",
            "Epoch 14/30\n",
            "100/100 [==============================] - 0s 4ms/step - loss: 0.0763 - acc: 0.9670 - val_loss: 0.3860 - val_acc: 0.8870\n",
            "Epoch 15/30\n",
            "100/100 [==============================] - 0s 4ms/step - loss: 0.0546 - acc: 0.9810 - val_loss: 0.4193 - val_acc: 0.8800\n",
            "Epoch 16/30\n",
            "100/100 [==============================] - 0s 4ms/step - loss: 0.0499 - acc: 0.9810 - val_loss: 0.5950 - val_acc: 0.8670\n",
            "Epoch 17/30\n",
            "100/100 [==============================] - 0s 4ms/step - loss: 0.0518 - acc: 0.9805 - val_loss: 0.6500 - val_acc: 0.8580\n",
            "Epoch 18/30\n",
            "100/100 [==============================] - 0s 4ms/step - loss: 0.0477 - acc: 0.9805 - val_loss: 0.6298 - val_acc: 0.8720\n",
            "Epoch 19/30\n",
            "100/100 [==============================] - 0s 4ms/step - loss: 0.0491 - acc: 0.9810 - val_loss: 0.4581 - val_acc: 0.8800\n",
            "Epoch 20/30\n",
            "100/100 [==============================] - 1s 5ms/step - loss: 0.0380 - acc: 0.9840 - val_loss: 0.4621 - val_acc: 0.8820\n",
            "Epoch 21/30\n",
            "100/100 [==============================] - 1s 6ms/step - loss: 0.0352 - acc: 0.9885 - val_loss: 0.4863 - val_acc: 0.8860\n",
            "Epoch 22/30\n",
            "100/100 [==============================] - 1s 5ms/step - loss: 0.0460 - acc: 0.9845 - val_loss: 0.5378 - val_acc: 0.8810\n",
            "Epoch 23/30\n",
            "100/100 [==============================] - 1s 5ms/step - loss: 0.0384 - acc: 0.9845 - val_loss: 0.5411 - val_acc: 0.8810\n",
            "Epoch 24/30\n",
            "100/100 [==============================] - 0s 4ms/step - loss: 0.0312 - acc: 0.9875 - val_loss: 0.4977 - val_acc: 0.8860\n",
            "Epoch 25/30\n",
            "100/100 [==============================] - 0s 4ms/step - loss: 0.0199 - acc: 0.9920 - val_loss: 0.6003 - val_acc: 0.8870\n",
            "Epoch 26/30\n",
            "100/100 [==============================] - 0s 4ms/step - loss: 0.0219 - acc: 0.9915 - val_loss: 0.5611 - val_acc: 0.8790\n",
            "Epoch 27/30\n",
            "100/100 [==============================] - 0s 4ms/step - loss: 0.0217 - acc: 0.9930 - val_loss: 0.6008 - val_acc: 0.8850\n",
            "Epoch 28/30\n",
            "100/100 [==============================] - 0s 4ms/step - loss: 0.0261 - acc: 0.9910 - val_loss: 0.5593 - val_acc: 0.8850\n",
            "Epoch 29/30\n",
            "100/100 [==============================] - 0s 4ms/step - loss: 0.0205 - acc: 0.9920 - val_loss: 0.6561 - val_acc: 0.8800\n",
            "Epoch 30/30\n",
            "100/100 [==============================] - 0s 4ms/step - loss: 0.0289 - acc: 0.9895 - val_loss: 0.6361 - val_acc: 0.8840\n"
          ]
        }
      ]
    },
    {
      "cell_type": "markdown",
      "metadata": {
        "id": "lD8uPDCQI1HZ"
      },
      "source": [
        "Training is very fast, since we only have to deal with two `Dense` layers -- an epoch takes less than one second even on CPU.\n",
        "\n",
        "Let's take a look at the loss and accuracy curves during training:"
      ]
    },
    {
      "cell_type": "code",
      "metadata": {
        "id": "YNg04a6zI1HZ",
        "colab": {
          "base_uri": "https://localhost:8080/",
          "height": 887
        },
        "outputId": "64bd6150-8cfe-40c8-8ac1-d16acaf10a24"
      },
      "source": [
        "import matplotlib.pyplot as plt\n",
        "\n",
        "acc = history.history['acc']\n",
        "val_acc = history.history['val_acc']\n",
        "loss = history.history['loss']\n",
        "val_loss = history.history['val_loss']\n",
        "\n",
        "epochs = range(len(acc))\n",
        "\n",
        "plt.plot(epochs, acc, 'bo', label='Training acc')\n",
        "plt.plot(epochs, val_acc, 'b', label='Validation acc')\n",
        "plt.title('Training and validation accuracy')\n",
        "plt.legend()\n",
        "\n",
        "plt.figure()\n",
        "\n",
        "plt.plot(epochs, loss, 'bo', label='Training loss')\n",
        "plt.plot(epochs, val_loss, 'b', label='Validation loss')\n",
        "plt.title('Training and validation loss')\n",
        "plt.legend()\n",
        "\n",
        "plt.show()"
      ],
      "execution_count": null,
      "outputs": [
        {
          "output_type": "display_data",
          "data": {
            "text/plain": [
              "<Figure size 640x480 with 1 Axes>"
            ],
            "image/png": "[encoded data removed]"
          },
          "metadata": {}
        },
        {
          "output_type": "display_data",
          "data": {
            "text/plain": [
              "<Figure size 640x480 with 1 Axes>"
            ],
            "image/png": "[encoded data removed]"
          },
          "metadata": {}
        }
      ]
    },
    {
      "cell_type": "markdown",
      "metadata": {
        "id": "BbVPshYbI1HZ"
      },
      "source": [
        "\n",
        "We reach a validation accuracy of about 90%, much better than what we could achieve in the previous section with our small model trained from\n",
        "scratch. However, our plots also indicate that we are overfitting almost from the start -- despite using dropout with a fairly large rate.\n",
        "This is because this technique does not leverage data augmentation, which is essential to preventing overfitting with small image datasets.\n",
        "\n",
        "Now, let's review the second technique we mentioned for doing feature extraction, which is much slower and more expensive, but which allows\n",
        "us to leverage data augmentation during training: extending the `conv_base` model and running it end-to-end on the inputs. Note that this\n",
        "technique is in fact so expensive that you should only attempt it if you have access to a GPU: it is absolutely intractable on CPU. If you\n",
        "cannot run your code on GPU, then the previous technique is the way to go.\n",
        "\n",
        "Because models behave just like layers, you can add a model (like our `conv_base`) to a `Sequential` model just like you would add a layer.\n",
        "So you can do the following:"
      ]
    },
    {
      "cell_type": "code",
      "metadata": {
        "collapsed": true,
        "id": "h-tVTQLDI1Ha"
      },
      "source": [
        "from keras import models\n",
        "from keras import layers\n",
        "\n",
        "model = keras.Sequential()\n",
        "model.add(conv_base)\n",
        "model.add(keras.layers.Flatten())\n",
        "model.add(keras.layers.Dense(256, activation='relu'))\n",
        "model.add(keras.layers.Dense(1, activation='sigmoid'))"
      ],
      "execution_count": null,
      "outputs": []
    },
    {
      "cell_type": "markdown",
      "metadata": {
        "id": "rfFL13FHI1Ha"
      },
      "source": [
        "This is what our model looks like now:"
      ]
    },
    {
      "cell_type": "code",
      "metadata": {
        "id": "SXyylmIMI1Ha",
        "colab": {
          "base_uri": "https://localhost:8080/"
        },
        "outputId": "e8dfd1fc-4822-4526-d46b-f53993ecb0b8"
      },
      "source": [
        "model.summary()"
      ],
      "execution_count": null,
      "outputs": [
        {
          "output_type": "stream",
          "name": "stdout",
          "text": [
            "Model: \"sequential_1\"\n",
            "_________________________________________________________________\n",
            " Layer (type)                Output Shape              Param #   \n",
            "=================================================================\n",
            " vgg16 (Functional)          (None, 4, 4, 512)         14714688  \n",
            "                                                                 \n",
            " flatten (Flatten)           (None, 8192)              0         \n",
            "                                                                 \n",
            " dense_2 (Dense)             (None, 256)               2097408   \n",
            "                                                                 \n",
            " dense_3 (Dense)             (None, 1)                 257       \n",
            "                                                                 \n",
            "=================================================================\n",
            "Total params: 16812353 (64.13 MB)\n",
            "Trainable params: 16812353 (64.13 MB)\n",
            "Non-trainable params: 0 (0.00 Byte)\n",
            "_________________________________________________________________\n"
          ]
        }
      ]
    },
    {
      "cell_type": "markdown",
      "metadata": {
        "id": "m3M-GXQ_I1Ha"
      },
      "source": [
        "As you can see, the convolutional base of VGG16 has 14,714,688 parameters, which is very large. The classifier we are adding on top has 2\n",
        "million parameters.\n",
        "\n",
        "Before we compile and train our model, a very important thing to do is to freeze the convolutional base. \"Freezing\" a layer or set of\n",
        "layers means preventing their weights from getting updated during training. If we don't do this, then the representations that were\n",
        "previously learned by the convolutional base would get modified during training. Since the `Dense` layers on top are randomly initialized,\n",
        "very large weight updates would be propagated through the network, effectively destroying the representations previously learned.\n",
        "\n",
        "In Keras, freezing a network is done by setting its `trainable` attribute to `False`:"
      ]
    },
    {
      "cell_type": "code",
      "metadata": {
        "id": "g7Ve2lFhI1Ha",
        "colab": {
          "base_uri": "https://localhost:8080/"
        },
        "outputId": "bf408e68-8403-4b9a-e7cd-fb0ab3f6ca6d"
      },
      "source": [
        "print('This is the number of trainable weights '\n",
        "      'before freezing the conv base:', len(model.trainable_weights))"
      ],
      "execution_count": null,
      "outputs": [
        {
          "output_type": "stream",
          "name": "stdout",
          "text": [
            "This is the number of trainable weights before freezing the conv base: 30\n"
          ]
        }
      ]
    },
    {
      "cell_type": "code",
      "metadata": {
        "collapsed": true,
        "id": "oP8_eEBvI1Hb"
      },
      "source": [
        "conv_base.trainable = False"
      ],
      "execution_count": null,
      "outputs": []
    },
    {
      "cell_type": "code",
      "metadata": {
        "id": "uLjVnV4vI1Hb",
        "colab": {
          "base_uri": "https://localhost:8080/"
        },
        "outputId": "91c58ea8-0c54-4149-d333-2365ab08dfef"
      },
      "source": [
        "print('This is the number of trainable weights '\n",
        "      'after freezing the conv base:', len(model.trainable_weights))"
      ],
      "execution_count": null,
      "outputs": [
        {
          "output_type": "stream",
          "name": "stdout",
          "text": [
            "This is the number of trainable weights after freezing the conv base: 4\n"
          ]
        }
      ]
    },
    {
      "cell_type": "markdown",
      "metadata": {
        "id": "tt2soiGaI1Hb"
      },
      "source": [
        "With this setup, only the weights from the two `Dense` layers that we added will be trained. That's a total of four weight tensors: two per\n",
        "layer (the main weight matrix and the bias vector). Note that in order for these changes to take effect, we must first compile the model.\n",
        "If you ever modify weight trainability after compilation, you should then re-compile the model, or these changes would be ignored.\n",
        "\n",
        "Now we can start training our model, with the same data augmentation configuration that we used in our previous example:"
      ]
    },
    {
      "cell_type": "code",
      "metadata": {
        "id": "UfPdCVWbI1Hb",
        "colab": {
          "base_uri": "https://localhost:8080/"
        },
        "outputId": "03878804-b39a-4f58-c880-b6a5c5ab88c4"
      },
      "source": [
        "train_datagen = keras.preprocessing.image.ImageDataGenerator(\n",
        "      rescale=1./255,\n",
        "      rotation_range=40,\n",
        "      width_shift_range=0.2,\n",
        "      height_shift_range=0.2,\n",
        "      shear_range=0.2,\n",
        "      zoom_range=0.2,\n",
        "      horizontal_flip=True,\n",
        "      fill_mode='nearest')\n",
        "\n",
        "# Note that the validation data should not be augmented!\n",
        "test_datagen = keras.preprocessing.image.ImageDataGenerator(rescale=1./255)\n",
        "\n",
        "train_generator = train_datagen.flow_from_directory(\n",
        "        # This is the target directory\n",
        "        \"train\",\n",
        "        # All images will be resized to 150x150\n",
        "        target_size=(150, 150),\n",
        "        batch_size=20,\n",
        "        # Since we use binary_crossentropy loss, we need binary labels\n",
        "        class_mode='binary')\n",
        "\n",
        "validation_generator = test_datagen.flow_from_directory(\n",
        "        \"validation\",\n",
        "        target_size=(150, 150),\n",
        "        batch_size=20,\n",
        "        class_mode='binary')\n",
        "\n",
        "model.compile(loss='binary_crossentropy',\n",
        "              optimizer=keras.optimizers.RMSprop(learning_rate=2e-5),\n",
        "              metrics=['acc'])\n",
        "\n",
        "history = model.fit(\n",
        "      train_generator,\n",
        "      epochs=30,\n",
        "      validation_data=validation_generator,\n",
        "      verbose=2)"
      ],
      "execution_count": null,
      "outputs": [
        {
          "output_type": "stream",
          "name": "stdout",
          "text": [
            "Found 2000 images belonging to 2 classes.\n",
            "Found 1000 images belonging to 2 classes.\n"
          ]
        },
        {
          "output_type": "stream",
          "name": "stderr",
          "text": [
            "WARNING:absl:`lr` is deprecated in Keras optimizer, please use `learning_rate` or use the legacy optimizer, e.g.,tf.keras.optimizers.legacy.RMSprop.\n"
          ]
        },
        {
          "output_type": "stream",
          "name": "stdout",
          "text": [
            "Epoch 1/30\n",
            "100/100 - 25s - loss: 0.7264 - acc: 0.6725 - val_loss: 0.3286 - val_acc: 0.8590 - 25s/epoch - 254ms/step\n",
            "Epoch 2/30\n",
            "100/100 - 22s - loss: 0.4483 - acc: 0.7980 - val_loss: 0.2991 - val_acc: 0.8680 - 22s/epoch - 216ms/step\n",
            "Epoch 3/30\n",
            "100/100 - 21s - loss: 0.3917 - acc: 0.8215 - val_loss: 0.3097 - val_acc: 0.8630 - 21s/epoch - 213ms/step\n",
            "Epoch 4/30\n",
            "100/100 - 21s - loss: 0.3983 - acc: 0.8160 - val_loss: 0.2779 - val_acc: 0.8730 - 21s/epoch - 206ms/step\n",
            "Epoch 5/30\n",
            "100/100 - 19s - loss: 0.3847 - acc: 0.8315 - val_loss: 0.2667 - val_acc: 0.8910 - 19s/epoch - 189ms/step\n",
            "Epoch 6/30\n",
            "100/100 - 17s - loss: 0.3510 - acc: 0.8425 - val_loss: 0.3556 - val_acc: 0.8560 - 17s/epoch - 171ms/step\n",
            "Epoch 7/30\n",
            "100/100 - 17s - loss: 0.3451 - acc: 0.8395 - val_loss: 0.2617 - val_acc: 0.8820 - 17s/epoch - 172ms/step\n",
            "Epoch 8/30\n",
            "100/100 - 20s - loss: 0.3169 - acc: 0.8590 - val_loss: 0.2608 - val_acc: 0.8890 - 20s/epoch - 200ms/step\n",
            "Epoch 9/30\n",
            "100/100 - 18s - loss: 0.3129 - acc: 0.8600 - val_loss: 0.3792 - val_acc: 0.8560 - 18s/epoch - 178ms/step\n",
            "Epoch 10/30\n",
            "100/100 - 17s - loss: 0.3202 - acc: 0.8520 - val_loss: 0.2799 - val_acc: 0.8790 - 17s/epoch - 174ms/step\n",
            "Epoch 11/30\n",
            "100/100 - 19s - loss: 0.3122 - acc: 0.8565 - val_loss: 0.2795 - val_acc: 0.8710 - 19s/epoch - 187ms/step\n",
            "Epoch 12/30\n",
            "100/100 - 20s - loss: 0.3118 - acc: 0.8680 - val_loss: 0.2528 - val_acc: 0.8930 - 20s/epoch - 198ms/step\n",
            "Epoch 13/30\n",
            "100/100 - 17s - loss: 0.2936 - acc: 0.8695 - val_loss: 0.2968 - val_acc: 0.8790 - 17s/epoch - 173ms/step\n",
            "Epoch 14/30\n",
            "100/100 - 17s - loss: 0.3024 - acc: 0.8615 - val_loss: 0.2472 - val_acc: 0.8960 - 17s/epoch - 173ms/step\n",
            "Epoch 15/30\n",
            "100/100 - 17s - loss: 0.3041 - acc: 0.8680 - val_loss: 0.2598 - val_acc: 0.8880 - 17s/epoch - 175ms/step\n",
            "Epoch 16/30\n",
            "100/100 - 18s - loss: 0.3054 - acc: 0.8680 - val_loss: 0.2909 - val_acc: 0.8780 - 18s/epoch - 176ms/step\n",
            "Epoch 17/30\n",
            "100/100 - 17s - loss: 0.2902 - acc: 0.8660 - val_loss: 0.2407 - val_acc: 0.8950 - 17s/epoch - 173ms/step\n",
            "Epoch 18/30\n",
            "100/100 - 20s - loss: 0.2994 - acc: 0.8685 - val_loss: 0.2475 - val_acc: 0.8850 - 20s/epoch - 200ms/step\n",
            "Epoch 19/30\n",
            "100/100 - 18s - loss: 0.2890 - acc: 0.8710 - val_loss: 0.2507 - val_acc: 0.8910 - 18s/epoch - 183ms/step\n",
            "Epoch 20/30\n",
            "100/100 - 18s - loss: 0.2801 - acc: 0.8775 - val_loss: 0.2615 - val_acc: 0.8860 - 18s/epoch - 175ms/step\n",
            "Epoch 21/30\n",
            "100/100 - 17s - loss: 0.2774 - acc: 0.8785 - val_loss: 0.2662 - val_acc: 0.8850 - 17s/epoch - 172ms/step\n",
            "Epoch 22/30\n",
            "100/100 - 18s - loss: 0.2900 - acc: 0.8780 - val_loss: 0.2632 - val_acc: 0.8910 - 18s/epoch - 178ms/step\n",
            "Epoch 23/30\n",
            "100/100 - 17s - loss: 0.2635 - acc: 0.8855 - val_loss: 0.2526 - val_acc: 0.8960 - 17s/epoch - 174ms/step\n",
            "Epoch 24/30\n",
            "100/100 - 21s - loss: 0.2730 - acc: 0.8805 - val_loss: 0.2536 - val_acc: 0.8970 - 21s/epoch - 209ms/step\n",
            "Epoch 25/30\n",
            "100/100 - 20s - loss: 0.2683 - acc: 0.8835 - val_loss: 0.2429 - val_acc: 0.8980 - 20s/epoch - 199ms/step\n",
            "Epoch 26/30\n",
            "100/100 - 17s - loss: 0.2684 - acc: 0.8830 - val_loss: 0.2750 - val_acc: 0.8910 - 17s/epoch - 174ms/step\n",
            "Epoch 27/30\n",
            "100/100 - 21s - loss: 0.2634 - acc: 0.8890 - val_loss: 0.2996 - val_acc: 0.8750 - 21s/epoch - 207ms/step\n",
            "Epoch 28/30\n",
            "100/100 - 20s - loss: 0.2695 - acc: 0.8870 - val_loss: 0.2467 - val_acc: 0.9050 - 20s/epoch - 199ms/step\n",
            "Epoch 29/30\n",
            "100/100 - 17s - loss: 0.2606 - acc: 0.8805 - val_loss: 0.2498 - val_acc: 0.9050 - 17s/epoch - 174ms/step\n",
            "Epoch 30/30\n",
            "100/100 - 20s - loss: 0.2637 - acc: 0.8900 - val_loss: 0.2715 - val_acc: 0.8850 - 20s/epoch - 198ms/step\n"
          ]
        }
      ]
    },
    {
      "cell_type": "code",
      "metadata": {
        "collapsed": true,
        "id": "9yLSdsF5I1Hc",
        "colab": {
          "base_uri": "https://localhost:8080/"
        },
        "outputId": "b3023e5b-3cda-4a2f-b7eb-a3bd41036b82"
      },
      "source": [
        "model.save('cats_and_dogs_small_3.keras')"
      ],
      "execution_count": null,
      "outputs": [
        {
          "output_type": "stream",
          "name": "stderr",
          "text": [
            "/usr/local/lib/python3.10/dist-packages/keras/src/engine/training.py:3103: UserWarning: You are saving your model as an HDF5 file via `model.save()`. This file format is considered legacy. We recommend using instead the native Keras format, e.g. `model.save('my_model.keras')`.\n",
            "  saving_api.save_model(\n"
          ]
        }
      ]
    },
    {
      "cell_type": "markdown",
      "metadata": {
        "id": "kWXsATPVI1Hc"
      },
      "source": [
        "Let's plot our results again:"
      ]
    },
    {
      "cell_type": "code",
      "metadata": {
        "id": "glShDuxHI1Hc",
        "colab": {
          "base_uri": "https://localhost:8080/",
          "height": 887
        },
        "outputId": "836f0710-26c8-43be-afa1-9e3b053c8dce"
      },
      "source": [
        "acc = history.history['acc']\n",
        "val_acc = history.history['val_acc']\n",
        "loss = history.history['loss']\n",
        "val_loss = history.history['val_loss']\n",
        "\n",
        "epochs = range(len(acc))\n",
        "\n",
        "plt.plot(epochs, acc, 'bo', label='Training acc')\n",
        "plt.plot(epochs, val_acc, 'b', label='Validation acc')\n",
        "plt.title('Training and validation accuracy')\n",
        "plt.legend()\n",
        "\n",
        "plt.figure()\n",
        "\n",
        "plt.plot(epochs, loss, 'bo', label='Training loss')\n",
        "plt.plot(epochs, val_loss, 'b', label='Validation loss')\n",
        "plt.title('Training and validation loss')\n",
        "plt.legend()\n",
        "\n",
        "plt.show()"
      ],
      "execution_count": null,
      "outputs": [
        {
          "output_type": "display_data",
          "data": {
            "text/plain": [
              "<Figure size 640x480 with 1 Axes>"
            ],
            "image/png": "[encoded data removed]"
          },
          "metadata": {}
        },
        {
          "output_type": "display_data",
          "data": {
            "text/plain": [
              "<Figure size 640x480 with 1 Axes>"
            ],
            "image/png": "[encoded data removed]"
          },
          "metadata": {}
        }
      ]
    },
    {
      "cell_type": "markdown",
      "metadata": {
        "id": "yJkYRN7jI1Hc"
      },
      "source": [
        "As you can see, we reach a validation accuracy of about 96%. This is much better than our small convnet trained from scratch."
      ]
    },
    {
      "cell_type": "markdown",
      "metadata": {
        "id": "E2LfQhmPI1Hc"
      },
      "source": [
        "## Fine-tuning\n",
        "\n",
        "Another widely used technique for model reuse, complementary to feature extraction, is _fine-tuning_.\n",
        "Fine-tuning consists in unfreezing a few of the top layers\n",
        "of a frozen model base used for feature extraction, and jointly training both the newly added part of the model (in our case, the\n",
        "fully-connected classifier) and these top layers. This is called \"fine-tuning\" because it slightly adjusts the more abstract\n",
        "representations of the model being reused, in order to make them more relevant for the problem at hand.\n",
        "\n",
        "![fine-tuning VGG16](https://s3.amazonaws.com/book.keras.io/img/ch5/vgg16_fine_tuning.png)"
      ]
    },
    {
      "cell_type": "markdown",
      "metadata": {
        "id": "7XmVziWHI1Hd"
      },
      "source": [
        "We have stated before that it was necessary to freeze the convolution base of VGG16 in order to be able to train a randomly initialized\n",
        "classifier on top. For the same reason, it is only possible to fine-tune the top layers of the convolutional base once the classifier on\n",
        "top has already been trained. If the classified wasn't already trained, then the error signal propagating through the network during\n",
        "training would be too large, and the representations previously learned by the layers being fine-tuned would be destroyed. Thus the steps\n",
        "for fine-tuning a network are as follow:\n",
        "\n",
        "* 1) Add your custom network on top of an already trained base network.\n",
        "* 2) Freeze the base network.\n",
        "* 3) Train the part you added.\n",
        "* 4) Unfreeze some layers in the base network.\n",
        "* 5) Jointly train both these layers and the part you added.\n",
        "\n",
        "We have already completed the first 3 steps when doing feature extraction. Let's proceed with the 4th step: we will unfreeze our `conv_base`,\n",
        "and then freeze individual layers inside of it.\n",
        "\n",
        "As a reminder, this is what our convolutional base looks like:"
      ]
    },
    {
      "cell_type": "code",
      "metadata": {
        "id": "F0AJyXbpI1Hd",
        "colab": {
          "base_uri": "https://localhost:8080/"
        },
        "outputId": "61042778-cc73-410f-8061-1bd2b80f0918"
      },
      "source": [
        "conv_base.summary()"
      ],
      "execution_count": null,
      "outputs": [
        {
          "output_type": "stream",
          "name": "stdout",
          "text": [
            "Model: \"vgg16\"\n",
            "_________________________________________________________________\n",
            " Layer (type)                Output Shape              Param #   \n",
            "=================================================================\n",
            " input_1 (InputLayer)        [(None, 150, 150, 3)]     0         \n",
            "                                                                 \n",
            " block1_conv1 (Conv2D)       (None, 150, 150, 64)      1792      \n",
            "                                                                 \n",
            " block1_conv2 (Conv2D)       (None, 150, 150, 64)      36928     \n",
            "                                                                 \n",
            " block1_pool (MaxPooling2D)  (None, 75, 75, 64)        0         \n",
            "                                                                 \n",
            " block2_conv1 (Conv2D)       (None, 75, 75, 128)       73856     \n",
            "                                                                 \n",
            " block2_conv2 (Conv2D)       (None, 75, 75, 128)       147584    \n",
            "                                                                 \n",
            " block2_pool (MaxPooling2D)  (None, 37, 37, 128)       0         \n",
            "                                                                 \n",
            " block3_conv1 (Conv2D)       (None, 37, 37, 256)       295168    \n",
            "                                                                 \n",
            " block3_conv2 (Conv2D)       (None, 37, 37, 256)       590080    \n",
            "                                                                 \n",
            " block3_conv3 (Conv2D)       (None, 37, 37, 256)       590080    \n",
            "                                                                 \n",
            " block3_pool (MaxPooling2D)  (None, 18, 18, 256)       0         \n",
            "                                                                 \n",
            " block4_conv1 (Conv2D)       (None, 18, 18, 512)       1180160   \n",
            "                                                                 \n",
            " block4_conv2 (Conv2D)       (None, 18, 18, 512)       2359808   \n",
            "                                                                 \n",
            " block4_conv3 (Conv2D)       (None, 18, 18, 512)       2359808   \n",
            "                                                                 \n",
            " block4_pool (MaxPooling2D)  (None, 9, 9, 512)         0         \n",
            "                                                                 \n",
            " block5_conv1 (Conv2D)       (None, 9, 9, 512)         2359808   \n",
            "                                                                 \n",
            " block5_conv2 (Conv2D)       (None, 9, 9, 512)         2359808   \n",
            "                                                                 \n",
            " block5_conv3 (Conv2D)       (None, 9, 9, 512)         2359808   \n",
            "                                                                 \n",
            " block5_pool (MaxPooling2D)  (None, 4, 4, 512)         0         \n",
            "                                                                 \n",
            "=================================================================\n",
            "Total params: 14714688 (56.13 MB)\n",
            "Trainable params: 0 (0.00 Byte)\n",
            "Non-trainable params: 14714688 (56.13 MB)\n",
            "_________________________________________________________________\n"
          ]
        }
      ]
    },
    {
      "cell_type": "markdown",
      "metadata": {
        "id": "bL9edRmLI1Hd"
      },
      "source": [
        "\n",
        "We will fine-tune the last 3 convolutional layers, which means that all layers up until `block4_pool` should be frozen, and the layers\n",
        "`block5_conv1`, `block5_conv2` and `block5_conv3` should be trainable.\n",
        "\n",
        "Why not fine-tune more layers? Why not fine-tune the entire convolutional base? We could. However, we need to consider that:\n",
        "\n",
        "* Earlier layers in the convolutional base encode more generic, reusable features, while layers higher up encode more specialized features. It is\n",
        "more useful to fine-tune the more specialized features, as these are the ones that need to be repurposed on our new problem. There would\n",
        "be fast-decreasing returns in fine-tuning lower layers.\n",
        "* The more parameters we are training, the more we are at risk of overfitting. The convolutional base has 15M parameters, so it would be\n",
        "risky to attempt to train it on our small dataset.\n",
        "\n",
        "Thus, in our situation, it is a good strategy to only fine-tune the top 2 to 3 layers in the convolutional base.\n",
        "\n",
        "Let's set this up, starting from where we left off in the previous example:"
      ]
    },
    {
      "cell_type": "code",
      "metadata": {
        "collapsed": true,
        "id": "VD79gClWI1Hd"
      },
      "source": [
        "conv_base.trainable = True\n",
        "\n",
        "set_trainable = False\n",
        "for layer in conv_base.layers:\n",
        "    if layer.name == 'block5_conv1':\n",
        "        set_trainable = True\n",
        "    if set_trainable:\n",
        "        layer.trainable = True\n",
        "    else:\n",
        "        layer.trainable = False"
      ],
      "execution_count": null,
      "outputs": []
    },
    {
      "cell_type": "markdown",
      "metadata": {
        "id": "5ZKPkooZI1Hd"
      },
      "source": [
        "Now we can start fine-tuning our network. We will do this with the RMSprop optimizer, using a very low learning rate. The reason for using\n",
        "a low learning rate is that we want to limit the magnitude of the modifications we make to the representations of the 3 layers that we are\n",
        "fine-tuning. Updates that are too large may harm these representations.\n",
        "\n",
        "Now let's proceed with fine-tuning:"
      ]
    },
    {
      "cell_type": "code",
      "metadata": {
        "id": "AbFja6E1I1He",
        "colab": {
          "base_uri": "https://localhost:8080/"
        },
        "outputId": "4eb8113e-2483-4b18-b1ba-b8db315a2d1e"
      },
      "source": [
        "model.compile(loss='binary_crossentropy',\n",
        "              optimizer=keras.optimizers.RMSprop(learning_rate=1e-5),\n",
        "              metrics=['acc'])\n",
        "\n",
        "history = model.fit(\n",
        "      train_generator,\n",
        "      epochs=30,\n",
        "      validation_data=validation_generator)"
      ],
      "execution_count": null,
      "outputs": [
        {
          "output_type": "stream",
          "name": "stderr",
          "text": [
            "WARNING:absl:`lr` is deprecated in Keras optimizer, please use `learning_rate` or use the legacy optimizer, e.g.,tf.keras.optimizers.legacy.RMSprop.\n"
          ]
        },
        {
          "output_type": "stream",
          "name": "stdout",
          "text": [
            "Epoch 1/30\n",
            "100/100 [==============================] - 21s 185ms/step - loss: 29.3847 - acc: 0.5260 - val_loss: 0.6884 - val_acc: 0.5420\n",
            "Epoch 2/30\n",
            "100/100 [==============================] - 18s 182ms/step - loss: 1.1087 - acc: 0.5430 - val_loss: 0.5772 - val_acc: 0.7480\n",
            "Epoch 3/30\n",
            "100/100 [==============================] - 21s 208ms/step - loss: 0.7768 - acc: 0.6470 - val_loss: 0.3740 - val_acc: 0.8500\n",
            "Epoch 4/30\n",
            "100/100 [==============================] - 18s 182ms/step - loss: 0.4775 - acc: 0.7965 - val_loss: 0.2997 - val_acc: 0.8860\n",
            "Epoch 5/30\n",
            "100/100 [==============================] - 19s 188ms/step - loss: 0.4168 - acc: 0.8400 - val_loss: 0.2436 - val_acc: 0.9020\n",
            "Epoch 6/30\n",
            "100/100 [==============================] - 18s 182ms/step - loss: 0.3404 - acc: 0.8620 - val_loss: 0.2892 - val_acc: 0.9200\n",
            "Epoch 7/30\n",
            "100/100 [==============================] - 19s 193ms/step - loss: 0.3507 - acc: 0.8560 - val_loss: 0.2516 - val_acc: 0.8820\n",
            "Epoch 8/30\n",
            "100/100 [==============================] - 18s 183ms/step - loss: 0.3542 - acc: 0.8745 - val_loss: 0.2379 - val_acc: 0.9130\n",
            "Epoch 9/30\n",
            "100/100 [==============================] - 18s 180ms/step - loss: 0.3008 - acc: 0.8885 - val_loss: 0.3375 - val_acc: 0.8950\n",
            "Epoch 10/30\n",
            "100/100 [==============================] - 18s 184ms/step - loss: 0.2909 - acc: 0.8905 - val_loss: 0.2807 - val_acc: 0.8940\n",
            "Epoch 11/30\n",
            "100/100 [==============================] - 18s 182ms/step - loss: 0.2701 - acc: 0.8975 - val_loss: 0.2342 - val_acc: 0.9190\n",
            "Epoch 12/30\n",
            "100/100 [==============================] - 19s 187ms/step - loss: 0.2743 - acc: 0.8945 - val_loss: 0.2566 - val_acc: 0.9290\n",
            "Epoch 13/30\n",
            "100/100 [==============================] - 21s 208ms/step - loss: 0.2623 - acc: 0.9055 - val_loss: 0.4122 - val_acc: 0.9110\n",
            "Epoch 14/30\n",
            "100/100 [==============================] - 18s 183ms/step - loss: 0.2961 - acc: 0.8880 - val_loss: 0.3144 - val_acc: 0.9240\n",
            "Epoch 15/30\n",
            "100/100 [==============================] - 20s 199ms/step - loss: 0.2607 - acc: 0.9125 - val_loss: 0.3226 - val_acc: 0.9360\n",
            "Epoch 16/30\n",
            "100/100 [==============================] - 18s 184ms/step - loss: 0.2666 - acc: 0.9185 - val_loss: 0.3219 - val_acc: 0.9150\n",
            "Epoch 17/30\n",
            "100/100 [==============================] - 19s 188ms/step - loss: 0.2272 - acc: 0.9180 - val_loss: 0.2887 - val_acc: 0.9280\n",
            "Epoch 18/30\n",
            "100/100 [==============================] - 18s 182ms/step - loss: 0.2352 - acc: 0.9195 - val_loss: 0.2925 - val_acc: 0.9310\n",
            "Epoch 19/30\n",
            "100/100 [==============================] - 19s 192ms/step - loss: 0.1954 - acc: 0.9265 - val_loss: 0.4902 - val_acc: 0.9330\n",
            "Epoch 20/30\n",
            "100/100 [==============================] - 18s 180ms/step - loss: 0.2253 - acc: 0.9165 - val_loss: 0.2693 - val_acc: 0.9340\n",
            "Epoch 21/30\n",
            "100/100 [==============================] - 19s 193ms/step - loss: 0.1817 - acc: 0.9340 - val_loss: 0.4149 - val_acc: 0.9300\n",
            "Epoch 22/30\n",
            "100/100 [==============================] - 18s 183ms/step - loss: 0.1930 - acc: 0.9285 - val_loss: 0.4313 - val_acc: 0.9340\n",
            "Epoch 23/30\n",
            "100/100 [==============================] - 19s 192ms/step - loss: 0.2101 - acc: 0.9240 - val_loss: 0.2949 - val_acc: 0.9220\n",
            "Epoch 24/30\n",
            "100/100 [==============================] - 21s 207ms/step - loss: 0.2184 - acc: 0.9245 - val_loss: 0.3476 - val_acc: 0.9180\n",
            "Epoch 25/30\n",
            "100/100 [==============================] - 18s 182ms/step - loss: 0.2147 - acc: 0.9235 - val_loss: 0.3872 - val_acc: 0.8790\n",
            "Epoch 26/30\n",
            "100/100 [==============================] - 18s 184ms/step - loss: 0.1592 - acc: 0.9380 - val_loss: 0.4981 - val_acc: 0.9340\n",
            "Epoch 27/30\n",
            "100/100 [==============================] - 18s 183ms/step - loss: 0.1777 - acc: 0.9360 - val_loss: 0.5127 - val_acc: 0.9380\n",
            "Epoch 28/30\n",
            "100/100 [==============================] - 19s 192ms/step - loss: 0.1964 - acc: 0.9350 - val_loss: 0.5511 - val_acc: 0.9480\n",
            "Epoch 29/30\n",
            "100/100 [==============================] - 18s 182ms/step - loss: 0.1934 - acc: 0.9310 - val_loss: 0.3913 - val_acc: 0.9410\n",
            "Epoch 30/30\n",
            "100/100 [==============================] - 18s 183ms/step - loss: 0.1723 - acc: 0.9405 - val_loss: 0.4502 - val_acc: 0.9360\n"
          ]
        }
      ]
    },
    {
      "cell_type": "code",
      "metadata": {
        "collapsed": true,
        "id": "Lyt2oJ-iI1He"
      },
      "source": [
        "model.save('cats_and_dogs_small_4.keras')"
      ],
      "execution_count": null,
      "outputs": []
    },
    {
      "cell_type": "markdown",
      "metadata": {
        "id": "aNMTY1pPI1Hg"
      },
      "source": [
        "Let's plot our results using the same plotting code as before:"
      ]
    },
    {
      "cell_type": "code",
      "metadata": {
        "id": "YFwBwpBYI1Hg",
        "colab": {
          "base_uri": "https://localhost:8080/",
          "height": 887
        },
        "outputId": "2a588384-e91d-4eca-d74f-747eb963fe49"
      },
      "source": [
        "acc = history.history['acc']\n",
        "val_acc = history.history['val_acc']\n",
        "loss = history.history['loss']\n",
        "val_loss = history.history['val_loss']\n",
        "\n",
        "epochs = range(len(acc))\n",
        "\n",
        "plt.plot(epochs, acc, 'bo', label='Training acc')\n",
        "plt.plot(epochs, val_acc, 'b', label='Validation acc')\n",
        "plt.title('Training and validation accuracy')\n",
        "plt.legend()\n",
        "\n",
        "plt.figure()\n",
        "\n",
        "plt.plot(epochs, loss, 'bo', label='Training loss')\n",
        "plt.plot(epochs, val_loss, 'b', label='Validation loss')\n",
        "plt.title('Training and validation loss')\n",
        "plt.legend()\n",
        "\n",
        "plt.show()"
      ],
      "execution_count": null,
      "outputs": [
        {
          "output_type": "display_data",
          "data": {
            "text/plain": [
              "<Figure size 640x480 with 1 Axes>"
            ],
            "image/png": "[encoded data removed]"
          },
          "metadata": {}
        },
        {
          "output_type": "display_data",
          "data": {
            "text/plain": [
              "<Figure size 640x480 with 1 Axes>"
            ],
            "image/png": "[encoded data removed]"
          },
          "metadata": {}
        }
      ]
    },
    {
      "cell_type": "markdown",
      "metadata": {
        "id": "wHUufi-uI1Hg"
      },
      "source": [
        "\n",
        "These curves look very noisy. To make them more readable, we can smooth them by replacing every loss and accuracy with exponential moving\n",
        "averages of these quantities. Here's a trivial utility function to do this:"
      ]
    },
    {
      "cell_type": "code",
      "metadata": {
        "id": "cB68eQ72I1Hg",
        "colab": {
          "base_uri": "https://localhost:8080/",
          "height": 887
        },
        "outputId": "3f46cf34-5add-4628-add4-f5cdcb74f006"
      },
      "source": [
        "def smooth_curve(points, factor=0.8):\n",
        "  smoothed_points = []\n",
        "  for point in points:\n",
        "    if smoothed_points:\n",
        "      previous = smoothed_points[-1]\n",
        "      smoothed_points.append(previous * factor + point * (1 - factor))\n",
        "    else:\n",
        "      smoothed_points.append(point)\n",
        "  return smoothed_points\n",
        "\n",
        "plt.plot(epochs,\n",
        "         smooth_curve(acc), 'bo', label='Smoothed training acc')\n",
        "plt.plot(epochs,\n",
        "         smooth_curve(val_acc), 'b', label='Smoothed validation acc')\n",
        "plt.title('Training and validation accuracy')\n",
        "plt.legend()\n",
        "\n",
        "plt.figure()\n",
        "\n",
        "plt.plot(epochs,\n",
        "         smooth_curve(loss), 'bo', label='Smoothed training loss')\n",
        "plt.plot(epochs,\n",
        "         smooth_curve(val_loss), 'b', label='Smoothed validation loss')\n",
        "plt.title('Training and validation loss')\n",
        "plt.legend()\n",
        "\n",
        "plt.show()"
      ],
      "execution_count": null,
      "outputs": [
        {
          "output_type": "display_data",
          "data": {
            "text/plain": [
              "<Figure size 640x480 with 1 Axes>"
            ],
            "image/png": "[encoded data removed]"
          },
          "metadata": {}
        },
        {
          "output_type": "display_data",
          "data": {
            "text/plain": [
              "<Figure size 640x480 with 1 Axes>"
            ],
            "image/png": "[encoded data removed]"
          },
          "metadata": {}
        }
      ]
    },
    {
      "cell_type": "markdown",
      "metadata": {
        "id": "4ehHUheHI1Hh"
      },
      "source": [
        "\n",
        "These curves look much cleaner and more stable. We are seeing a nice 1% absolute improvement.\n",
        "\n",
        "Note that the loss curve does not show any real improvement (in fact, it is deteriorating). You may wonder, how could accuracy improve if the\n",
        "loss isn't decreasing? The answer is simple: what we display is an average of pointwise loss values, but what actually matters for accuracy\n",
        "is the distribution of the loss values, not their average, since accuracy is the result of a binary thresholding of the class probability\n",
        "predicted by the model. The model may still be improving even if this isn't reflected in the average loss.\n",
        "\n",
        "We can now finally evaluate this model on the test data:"
      ]
    },
    {
      "cell_type": "code",
      "metadata": {
        "id": "U2VLwhPtI1Hh",
        "colab": {
          "base_uri": "https://localhost:8080/"
        },
        "outputId": "20edb2d8-1db9-4f0f-8928-f08e38564b2c"
      },
      "source": [
        "test_generator = test_datagen.flow_from_directory(\n",
        "        \"test\",\n",
        "        target_size=(150, 150),\n",
        "        batch_size=20,\n",
        "        class_mode='binary')\n",
        "\n",
        "test_loss, test_acc = model.evaluate(test_generator)\n",
        "print('test acc:', test_acc)"
      ],
      "execution_count": null,
      "outputs": [
        {
          "output_type": "stream",
          "name": "stdout",
          "text": [
            "Found 1000 images belonging to 2 classes.\n",
            "50/50 [==============================] - 3s 55ms/step - loss: 0.3238 - acc: 0.9340\n",
            "test acc: 0.9340000152587891\n"
          ]
        }
      ]
    },
    {
      "cell_type": "markdown",
      "metadata": {
        "id": "s9S4qSVcI1Hh"
      },
      "source": [
        "\n",
        "Here we get a test accuracy of 97%. In the original Kaggle competition around this dataset, this would have been one of the top results.\n",
        "However, using modern deep learning techniques, we managed to reach this result using only a very small fraction of the training data\n",
        "available (about 10%). There is a huge difference between being able to train on 20,000 samples compared to 2,000 samples!"
      ]
    },
    {
      "cell_type": "markdown",
      "metadata": {
        "id": "0vXQlPAQI1Hh"
      },
      "source": [
        "## Take-aways: using convnets with small datasets\n",
        "\n",
        "Here's what you should take away from the exercises of these past two sections:\n",
        "\n",
        "* Convnets are the best type of machine learning models for computer vision tasks. It is possible to train one from scratch even on a very\n",
        "small dataset, with decent results.\n",
        "* On a small dataset, overfitting will be the main issue. Data augmentation is a powerful way to fight overfitting when working with image\n",
        "data.\n",
        "* It is easy to reuse an existing convnet on a new dataset, via feature extraction. This is a very valuable technique for working with\n",
        "small image datasets.\n",
        "* As a complement to feature extraction, one may use fine-tuning, which adapts to a new problem some of the representations previously\n",
        "learned by an existing model. This pushes performance a bit further.\n",
        "\n",
        "Now you have a solid set of tools for dealing with image classification problems, in particular with small datasets."
      ]
    }
  ]
}